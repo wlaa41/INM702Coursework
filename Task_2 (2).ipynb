{
  "nbformat": 4,
  "nbformat_minor": 0,
  "metadata": {
    "kernelspec": {
      "display_name": "Python 3",
      "language": "python",
      "name": "python3"
    },
    "language_info": {
      "codemirror_mode": {
        "name": "ipython",
        "version": 3
      },
      "file_extension": ".py",
      "mimetype": "text/x-python",
      "name": "python",
      "nbconvert_exporter": "python",
      "pygments_lexer": "ipython3",
      "version": "3.8.5"
    },
    "colab": {
      "name": "Task 2.ipynb",
      "provenance": [],
      "collapsed_sections": [
        "a4CC8aYlPeFk"
      ]
    }
  },
  "cells": [
    {
      "cell_type": "markdown",
      "metadata": {
        "id": "Biyt3iastvfa"
      },
      "source": [
        "<div class=\"alert alert-danger\"><strong> ANN\r\n",
        "\r\n",
        "</strong></div>"
      ]
    },
    {
      "cell_type": "markdown",
      "metadata": {
        "id": "BEi5wFOOPeFY"
      },
      "source": [
        "|Code Symbol | Definition | Dimensions\n",
        "| :-: | :-: | :-: |\n",
        "|X|Input Data, each row in an example| (num_Samples, inputLayerSize)|\n",
        "|y |target data|(num_Samples, outputLayerSize)|\n",
        "|w | weights | (inputLayerSize, hiddenLayerSize) |\n",
        "|b | biases | (inputLayerSize, inputLayerSize) |\n",
        "|structure | ANN structure | (outputLayerSize, hiddenLayers...,inputLayerSize ) |\n",
        "|activfunc | Used Activation functions | (num_layers) |\n",
        "|outputfunc | Output Layer activation | (num_Samples, outputLayerSize) |\n",
        "|differ_b | ∇biases in each iter | (num_nodes, 1) |\n",
        "|differ_w | ∇weight in each iter | (prevlayerSize, weightsSize) |stopcrit_acc| A threshold to stop iteratoin | (float)\n",
        "|stopcrit_acc |  A threshold to stop iteratoin | (float)\n"
      ]
    },
    {
      "cell_type": "markdown",
      "metadata": {
        "id": "YiCsdE53PeFg"
      },
      "source": [
        "## Importing Libraries"
      ]
    },
    {
      "cell_type": "code",
      "metadata": {
        "colab": {
          "base_uri": "https://localhost:8080/"
        },
        "id": "10JxCDN-m6DS",
        "outputId": "4c917cbb-9dbe-4839-b6b3-04a28c8fdade"
      },
      "source": [
        "from google.colab import drive\n",
        "drive.mount('/content/drive')\n"
      ],
      "execution_count": 56,
      "outputs": [
        {
          "output_type": "stream",
          "text": [
            "Mounted at /content/drive\n"
          ],
          "name": "stdout"
        }
      ]
    },
    {
      "cell_type": "code",
      "metadata": {
        "colab": {
          "base_uri": "https://localhost:8080/",
          "height": 0
        },
        "id": "xFQZXBEcSScW",
        "outputId": "94db3e9b-1e5d-4a87-f5b2-f31f9f344a93"
      },
      "source": [
        "!pip install colorama"
      ],
      "execution_count": 25,
      "outputs": [
        {
          "output_type": "stream",
          "text": [
            "Collecting colorama\n",
            "  Downloading https://files.pythonhosted.org/packages/44/98/5b86278fbbf250d239ae0ecb724f8572af1c91f4a11edf4d36a206189440/colorama-0.4.4-py2.py3-none-any.whl\n",
            "Installing collected packages: colorama\n",
            "Successfully installed colorama-0.4.4\n"
          ],
          "name": "stdout"
        }
      ]
    },
    {
      "cell_type": "code",
      "metadata": {
        "colab": {
          "base_uri": "https://localhost:8080/",
          "height": 0
        },
        "id": "utwszuxHnbC0",
        "outputId": "b10cf8be-ff7d-4bf7-d990-0c3c6708f8d0"
      },
      "source": [
        "from rutaul import pb,py,pg,pr"
      ],
      "execution_count": 26,
      "outputs": [
        {
          "output_type": "stream",
          "text": [
            "\u001b[42m\n",
            "\u001b[0m\n",
            "\u001b[92m........... 🆂  🆃  🅰   🆁  🆃 ...........\n",
            "\u001b[0m"
          ],
          "name": "stdout"
        }
      ]
    },
    {
      "cell_type": "code",
      "metadata": {
        "id": "9ssusRGbPeFh"
      },
      "source": [
        "from keras.datasets import mnist # It used to take the data from it \n",
        "import matplotlib.pyplot as plt\n",
        "import numpy as np\n",
        "import sys\n",
        "import pdb\n",
        "from sympy import Matrix, init_printing\n",
        "init_printing()\n",
        "import random\n",
        "np.set_printoptions(precision=2)\n",
        "\n"
      ],
      "execution_count": 28,
      "outputs": []
    },
    {
      "cell_type": "markdown",
      "metadata": {
        "id": "SOB3ydD_PeFi"
      },
      "source": [
        "## Loading and Printing some Samples "
      ]
    },
    {
      "cell_type": "code",
      "metadata": {
        "colab": {
          "base_uri": "https://localhost:8080/",
          "height": 0
        },
        "id": "mJN-e4r8PeFi",
        "outputId": "29decb09-7ecc-4f1e-f3ae-d4df7545dfa2"
      },
      "source": [
        "(train_X, train_y), (test_X, test_y) = mnist.load_data()\n",
        "for i in range(9):  \n",
        "    plt.subplot(331 + i)\n",
        "    plt.imshow(train_X[i], cmap=plt.get_cmap('gray'))\n",
        "plt.show()\n"
      ],
      "execution_count": 29,
      "outputs": [
        {
          "output_type": "stream",
          "text": [
            "Downloading data from https://storage.googleapis.com/tensorflow/tf-keras-datasets/mnist.npz\n",
            "11493376/11490434 [==============================] - 0s 0us/step\n"
          ],
          "name": "stdout"
        },
        {
          "output_type": "display_data",
          "data": {
            "image/png": "[encoded data removed]",
            "text/plain": [
              "<Figure size 432x288 with 9 Axes>"
            ]
          },
          "metadata": {
            "tags": [],
            "needs_background": "light"
          }
        }
      ]
    },
    {
      "cell_type": "markdown",
      "metadata": {
        "id": "a4CC8aYlPeFk"
      },
      "source": [
        "## $ Cost Function for Softmax: $ <center> C = $-\\frac{1}{n}$$\\sum\\limits_{i=1}^{n}$$[y_i\\log(\\hat{y_i})+(1-{y_i})\\log(1-\\hat{y_i})]$ </center>"
      ]
    },
    {
      "cell_type": "markdown",
      "metadata": {
        "id": "4NGPFfUtPeFk"
      },
      "source": [
        "## Flatten and normilizing the matrix"
      ]
    },
    {
      "cell_type": "code",
      "metadata": {
        "id": "HmwrtJ8oPeFk"
      },
      "source": [
        "def hot_one_converter(number,classificatoin_count=10):\n",
        "    \"\"\" Takes a number and return a hot one array\n",
        "    Hot one array: is an array of zeros and single one\n",
        "\n",
        "    Args:\n",
        "        number (int): number to be converted to array the number will represented as the only one in the array\n",
        "        classificatoin_count (int, optional): Size of the array. Defaults to 10.\n",
        "    \"\"\"\n",
        "    hot_one = np.zeros((classificatoin_count,1))\n",
        "    #if number > -1 and number < classificatoin_count:\n",
        "    hot_one[number] = 1\n",
        "    return hot_one\n",
        "def flatten_normalize_matrix(matrix):\n",
        "    \"\"\"It takes a matrix and return a matrix with one dimension and it normilize the elements to a value between 1 and 0\n",
        "        * It does not handle negative value well    \n",
        "\n",
        "    Args:\n",
        "        matrix (ndarray): array to be normilized and flatten\n",
        "\n",
        "    Returns:\n",
        "        Array: one dimension array elements between 0 and 1\n",
        "    \"\"\"\n",
        "    return np.reshape( matrix.flatten() /np.max(matrix) , (-1,1))\n",
        "\n",
        "train_yv = [ hot_one_converter(res) for res in train_y]\n",
        "train_Xv = [ flatten_normalize_matrix(res)  for res in train_X]\n",
        "\n",
        "test_yv = [hot_one_converter(res) for res in test_y]\n",
        "test_Xv = [flatten_normalize_matrix(res)for res in test_X]\n"
      ],
      "execution_count": 30,
      "outputs": []
    },
    {
      "cell_type": "markdown",
      "metadata": {
        "id": "LOVs-4OvPeFl"
      },
      "source": [
        "# Creating the neural netword main class \n",
        "\n",
        "#### $$     Z_l(x) = ( w_{1} a_{1} + w_{2} a_{2} ... + w_{n} a_{n} ) + b   $$\n",
        "#### $$ sigmoid =  \\sigma(Z_l(x)) =  \\frac{1}{1 +  e^{-x} } $$ \n",
        "#### $$    Softmax = \\frac{\\sigma(Z_l(x)) }{\\sum_j \\sigma(Z_l(x))        }        $$ \n",
        "\n"
      ]
    },
    {
      "cell_type": "code",
      "metadata": {
        "id": "ydNsat5EPeFl"
      },
      "source": [
        "class class_actifunc: \n",
        "    def __init__(self):\n",
        "        self.flist  = {'sigmoid' : {'func': self.sigmoid,\n",
        "                                   'dfunc': self.de_sigmoid\n",
        "                                    },\n",
        "                       'ReLU' : {'func': self.ReLU,\n",
        "                                   'dfunc': self.de_ReLU\n",
        "                                    },\n",
        "                       'LeakyReLU': {'func': self.LeakyReLU,\n",
        "                                   'dfunc': self.de_LeakyReLU\n",
        "                                    },\n",
        "                       'Tanh': {'func': self.tanh,\n",
        "                                   'dfunc': self.de_tanh\n",
        "                                    },\n",
        "                       'ELU': {'func': self.ELU,\n",
        "                                   'dfunc': self.de_ELU\n",
        "                                    },\n",
        "                       'softmax': {'func': self.softmax,\n",
        "                                   'dfunc': self.de_softmax\n",
        "                                    },\n",
        "                       'MSE'    :  self.cost_derivative,\n",
        "                       'c_entropy':  self.crossentropy,\n",
        "                       'AMSE':  self.cost_abs,\n",
        "                       \n",
        "                   }\n",
        "    # ----------------------- sofrmax --------------------------------\n",
        "    def de_softmax(self,z,y_target):\n",
        "      \"\"\" Derivative Softmax of vector function.\"\"\"\n",
        "      # pr(z.shape)\n",
        "      jac = np.diagflat(z)\n",
        "      \n",
        "      for i in range(len(jac)):\n",
        "          for j in range(len(jac)):\n",
        "              if i == j:\n",
        "                jac[i][j] = float(z[i] * (1-z[i]))\n",
        "              else: \n",
        "                jac[i][j] = -z[i]*z[j]\n",
        "      p = np.reshape(jac[np.argmax(y_target)],(-1,1))\n",
        "      return p\n",
        "          \n",
        "    @staticmethod\n",
        "    def softmax(z):\n",
        "        \"\"\" Softmax of vector function.\"\"\"\n",
        "        exp=np.exp(z-np.max(z)) # to avoid reaching NaN in case one of the value is zero \"it does not effect the outcome\n",
        "        s = np.sum(exp)\n",
        "        # py('z\\n', z)\n",
        "        # pb('for  \\n',exp/s)\n",
        "        return exp/s \n",
        "    # ----------------------- LeakyReLU --------------------------------     \n",
        "    def de_LeakyReLU(self,z,_=0,alpha =.1):\n",
        "        \"\"\"Derivative of Leaky ReLU function.\"\"\"\n",
        "        return np.where(z > 0, 1.0, alpha)  \n",
        "    @staticmethod\n",
        "    def LeakyReLU(z,alpha =.1):\n",
        "        \"\"\"The Leaky ReLU function.\"\"\"\n",
        "        return np.maximum(alpha * z, z)        \n",
        "    # ----------------------- ELU --------------------------------\n",
        "    def de_ELU(self,z,_=0,alpha =.1):\n",
        "        \"\"\"Derivative of Leaky ReLU function.\"\"\"\n",
        "        return 1 if z > 0 else alpha*np.exp(z)\n",
        "    @staticmethod\n",
        "    def ELU(z,alpha =.1):\n",
        "        \"\"\"The Leaky ReLU function.\"\"\"\n",
        "        return z if z >= 0 else alpha*(e^z -1)\n",
        "    # ----------------------- sigmoid --------------------------------\n",
        "    def de_sigmoid(self,z,_=0):\n",
        "        \"\"\" Derivative of the sigmoid function.\"\"\"\n",
        "        return self.sigmoid(z)*(1-self.sigmoid(z))   \n",
        "    @staticmethod\n",
        "    def sigmoid(z):\n",
        "        \"\"\" sigmoid function.\"\"\"\n",
        "        # print(z)\n",
        "        \n",
        "        return 1.0/(1.0+np.exp(-z))\n",
        "    # ----------------------- tanh --------------------------------\n",
        "    def de_tanh(self,z,_=0):\n",
        "        \"\"\"Derivative of the Tanh function.\"\"\"\n",
        "        return 1 - np.power(self.tanh(z), 2)\n",
        "    @staticmethod\n",
        "    def tanh(z):\n",
        "        \"\"\"The Tanh function.\"\"\"\n",
        "        return (np.exp(z) - np.exp(-z)) / (np.exp(z) + np.exp(-z))\n",
        "    # ----------------------- ReLU --------------------------------\n",
        "    def de_ReLU(self,z,_=0):\n",
        "        \"\"\"Derivative of the ReLU function.\"\"\"\n",
        "        # pg(z)\n",
        "\n",
        "        zz =[ .001 if x < 0 else 0 for x in z ]\n",
        "        z[z<=0] = 0\n",
        "        z[z>0] = .01\n",
        "        # py('zz',zz)\n",
        "        # pb('derelu', z )\n",
        "        return z\n",
        "    @staticmethod\n",
        "    def ReLU(z):\n",
        "        \"\"\"The ReLU function.\"\"\"\n",
        "        # py('z',z)\n",
        "        # pg('relu\\n', np.maximum(0, z) )\n",
        "\n",
        "        return np.maximum(0, z) \n",
        "#         return z * (z > 0)\n",
        "\n",
        "    # ----------------------- Cost Functions  --------------------------------\n",
        "\n",
        "    def cost_derivative(self, layer_output, y_target):\n",
        "        \"\"\"Return the vector of partial derivatives \\partial C_x /\n",
        "        \\partial a for the output activations.\"\"\"\n",
        "        return (layer_output-y_target)\n",
        "\n",
        "    def cost_abs(self, layer_output, y_target):\n",
        "        \"\"\"Return the vector of partial derivatives \\partial C_x /\n",
        "        \\partial a for the output activations.\"\"\"\n",
        "        return np.abs(layer_output-y_target)\n",
        "    \n",
        "    def crossentropy(self,  y_hat,y_target):\n",
        "        c1 = -y_target * (np.log(y_hat + 1e-8))\n",
        "        c2 = (1.-y_target)*np.log(1.-y_hat + 1e-8)\n",
        "        cost = np.sum(c1-c2) \n",
        "        return cost\n",
        "    \n",
        "\n",
        "actf = class_actifunc()    \n",
        "\n",
        "\n",
        "#['func'](7)\n",
        "\n",
        "# act.fun['sigmoid']['defunc'](3)#['func'](7)\n",
        "# activationfunc.sigmoid['func']\n",
        "\n"
      ],
      "execution_count": 31,
      "outputs": []
    },
    {
      "cell_type": "markdown",
      "metadata": {
        "id": "a548jXktPeFm"
      },
      "source": [
        "# Neural network class"
      ]
    },
    {
      "cell_type": "code",
      "metadata": {
        "id": "SoW3SAJdPeFn"
      },
      "source": [
        "class network:\n",
        "    \"\"\"\n",
        "    Neural network class that creats a network with fixed size and has forword, backword methods \n",
        "    to adjust the weights and biases\n",
        "    \"\"\"\n",
        "    def __init__(self, structure:list,activfunc=['sigmoid'],outputfunc='softmax',stopcrit_acc = .0001,costfunc='MSE',**kargs):\n",
        "        \"\"\"Intiating the network and creating weights and biases randomly \n",
        "         unless a set by **kargs where the __dict__ will be updated \n",
        "\n",
        "        Args:\n",
        "             stopcrit_acc (float): The threshold where iteration will stop that is the different in accuracy between \n",
        "                                 last epoch and the current one\n",
        "             structure (list): List of integer describing the layers neurons count\n",
        "                                e.g. [3,4,4,2] \n",
        "             activfunc (list): List of activation function for each layer. ** It has a length of \n",
        "                                 n-2 as the output has outputfunc variable or length one and \n",
        "             outputfunc (activfun method): The output layer function e.g softmax\n",
        "             costfunc   (costfunc method): The cost function\n",
        "        \"\"\"\n",
        "        self.cost_tracker = []\n",
        "        self.lambda_accuracy_stopcriterion = stopcrit_acc\n",
        "        self.structure = structure\n",
        "        self.cost = actf.flist[costfunc]\n",
        "        self.activfunc = activfunc\n",
        "        self.outputfunc = outputfunc\n",
        "        # Creating normal random number around zero the \n",
        "        self.b = [np.random.randn(x, 1) for x in structure[1:]] # Biases \n",
        "        self.w = [np.random.randn(x2, x1) for x1, x2 in zip(structure[:-1], structure[1:])] # Weights\n",
        "        \n",
        "    \n",
        "        if len(activfunc) ==1:\n",
        "            self.activfunc = [activfunc[0]] * (len(structure)-1) \n",
        "        else :\n",
        "           self.activfunc = activfunc\n",
        "\n",
        "        self.__dict__.update(kargs)\n",
        "\n",
        "        \n",
        "        self.printonce= True\n",
        "#         pdb.set_trace()\n",
        "\n",
        "    def forward(self, inp):\n",
        "        func = class_actifunc()\n",
        "\n",
        "        i = 1 # a varible to apply the soft max function if it was giving \n",
        "        number_layers = len(self.structure)\n",
        "        for f, b, w in zip(self.activfunc, self.b, self.w):\n",
        "          i+=1\n",
        "          if i == number_layers: # to examined if the last layer is reached\n",
        "\n",
        "            if self.outputfunc: # if the activation function is provided\n",
        "              inp = func.flist[self.outputfunc]['func'](np.dot(w, inp)+b) \n",
        "            else:\n",
        "              inp = func.flist[f]['func'](np.dot(w, inp)+b)\n",
        "          \n",
        "          else:\n",
        "            inp = func.flist[f]['func'](np.dot(w, inp)+b) #  sigmoid(np.dot(w, data)+b)\n",
        "#             pdb.set_trace()\n",
        "        return inp\n",
        "    \n",
        "    \n",
        "\n",
        "    def SGD(self, training_data, epochs, batch_size, lr,\n",
        "            test_data=None):\n",
        "        self.epochs = epochs\n",
        "        self.lr = lr\n",
        "        training_data = list(training_data)\n",
        "        n = len(training_data)\n",
        "\n",
        "        if test_data:\n",
        "            test_data = list(test_data)\n",
        "            n_test = len(test_data)\n",
        "        \n",
        "        previousacc = 0\n",
        "        nettest.cost_tracker.append(previousacc)\n",
        "        stop_epoch =False # this boolean is for stop criterion\n",
        "        for i in range(epochs):\n",
        "#             global stop_epoch\n",
        "            random.shuffle(training_data)\n",
        "            mini_batches = [\n",
        "                training_data[k:k+batch_size]\n",
        "                for k in range(0, n, batch_size)]\n",
        "            for mini_batch in mini_batches:\n",
        "                self.update_mini_batch(mini_batch, lr)\n",
        "                \n",
        "                \n",
        "           \n",
        "            current_accuracy =  self.evaluate(test_data)/n_test\n",
        "            stop_epoch = self.stop_criterion(previousacc,current_accuracy)\n",
        "            previousacc = current_accuracy\n",
        "            self.cost_tracker.append(previousacc)\n",
        "\n",
        "            print(f\"Iter No: {i} ==> Correct answers: {self.evaluate(test_data)} out of {n_test} Acc:{current_accuracy}\");\n",
        "      \n",
        "            if stop_epoch:\n",
        "                print('stop criterion difference in accuracy is smaller than value giving stopcrit_acc: ', self.lambda_accuracy_stopcriterion)\n",
        "                break\n",
        "                \n",
        "    def stop_criterion(self,previousAccuracy,currentAccuracy):\n",
        "        \"\"\" Check how much the current accuracy is different from the previous epoch accuracy and \n",
        "            return boolean value to determine whether to move forword or stop iteration\n",
        "        \"\"\"\n",
        "        diff = currentAccuracy - previousAccuracy\n",
        "        if diff < np.absolute(self.lambda_accuracy_stopcriterion):\n",
        "            return True\n",
        "        print('pass stop criterion test')\n",
        "        return False\n",
        "        \n",
        "        \n",
        "    def update_mini_batch(self, mini_batch, lr):\n",
        "        # ------------ creating empty array -------------------\n",
        "        differ_b = [np.zeros(b.shape) for b in self.b]\n",
        "        differ_w = [np.zeros(w.shape) for w in self.w]\n",
        "        # ------------------- Calling backprop ----------------\n",
        "        for x, y in mini_batch:\n",
        "            total_differ_b, total_differ_w = self.backprop(x, y)\n",
        "            differ_b = [delta + dffb for delta, dffb in zip(differ_b, total_differ_b)]\n",
        "            differ_w = [delta + dffw for delta, dffw in zip(differ_w, total_differ_w)]\n",
        "        # --------------- updating the value -------------------\n",
        "        self.w = [w - (lr/len(mini_batch)) * dw for w, dw in zip(self.w, differ_w)]\n",
        "        self.b = [b - (lr/len(mini_batch)) * db for b, db in zip(self.b, differ_b)]\n",
        "\n",
        "\n",
        "\n",
        "    def backprop(self, x, y):\n",
        "        func = class_actifunc()\n",
        "        \n",
        "        differ_b = [np.zeros(b.shape) for b in self.b]\n",
        "        differ_w = [np.zeros(w.shape) for w in self.w]\n",
        "        # -----------------------------------  Feedforward ------------------------------------\n",
        "        a_layer_output = x\n",
        "        \n",
        "        layer_output = [x] # list to store all the layer_output, layer by layer\n",
        "        zs = [] # list to store all the z vectors, layer by layer\n",
        "        for b, w in zip(self.b, self.w):\n",
        "            z = np.dot(w, layer_output[-1]) + b\n",
        "            zs.append(z)\n",
        "\n",
        "            a_layer_output = func.flist[self.activfunc[-1]]['func'](z)\n",
        "\n",
        "            layer_output.append(a_layer_output)\n",
        "            \n",
        "         # =============================== END Feedforward END ============================\n",
        "        \n",
        "\n",
        "        # ------------------------    Backward Pass Output Layer     ----------------------\n",
        "        differ = self.cost(layer_output[-1], y) * func.flist[self.activfunc[-1]]['dfunc'](zs[-1], y)\n",
        "        differ_b[-1] = differ\n",
        "        differ_w[-1] = np.dot(differ, layer_output[-2].transpose())\n",
        "        \n",
        "        # =====================  END  Backward Pass Output Layer END   ====================\n",
        "\n",
        "        \n",
        "        # ---------------------------       Backward Pass         -------------------------\n",
        "\n",
        "        for lyr in range(2, len(self.structure)):\n",
        "            z = zs[-lyr]\n",
        "            sp = func.flist[self.activfunc[-lyr]]['dfunc'](z, y)\n",
        "            differ = np.dot(self.w[-lyr+1].transpose(), differ) * sp\n",
        "            differ_b[-lyr] = differ\n",
        "            differ_w[-lyr] = np.dot(differ, layer_output[-lyr-1].transpose())\n",
        "       # =====================  END  Backward Pass Output Layer END   ====================\n",
        "        return (differ_b, differ_w)\n",
        "\n",
        "    def evaluate(self, test_data):\n",
        "      test_results = [(np.argmax(self.forward(x)), np.argmax(y)) for (x, y) in test_data]\n",
        "      return  sum( [1  if x == y else 0 for (x, y) in test_results ])\n"
      ],
      "execution_count": 32,
      "outputs": []
    },
    {
      "cell_type": "code",
      "metadata": {
        "colab": {
          "base_uri": "https://localhost:8080/",
          "height": 0
        },
        "id": "Qv8YBajfVuzG",
        "outputId": "611123d9-2920-4f12-c357-94a9a25626ea"
      },
      "source": [
        "nettest =network([784, 8,10],['sigmoid'],outputfunc='softmax', stopcrit_acc = .005,costfunc='MSE')\n",
        "\n",
        "nettest.SGD(zip(train_Xv,train_yv),200, 10, .4 ,test_data=zip(test_Xv,test_yv))\n",
        "\n"
      ],
      "execution_count": 33,
      "outputs": [
        {
          "output_type": "stream",
          "text": [
            "pass stop criterion test\n",
            "Iter No: 0 ==> Correct answers: 7214 out of 10000 Acc:0.7214\n",
            "pass stop criterion test\n",
            "Iter No: 1 ==> Correct answers: 8120 out of 10000 Acc:0.812\n",
            "pass stop criterion test\n",
            "Iter No: 2 ==> Correct answers: 8412 out of 10000 Acc:0.8412\n",
            "pass stop criterion test\n",
            "Iter No: 3 ==> Correct answers: 8570 out of 10000 Acc:0.857\n",
            "Iter No: 4 ==> Correct answers: 8618 out of 10000 Acc:0.8618\n",
            "stop criterion difference in accuracy is smaller than value giving stopcrit_acc:  0.005\n"
          ],
          "name": "stdout"
        }
      ]
    },
    {
      "cell_type": "code",
      "metadata": {
        "colab": {
          "base_uri": "https://localhost:8080/"
        },
        "id": "K2Hj2TVxzQrJ",
        "outputId": "5de23f92-efe6-48bc-a479-131019daf978"
      },
      "source": [
        "nettest.activfunc "
      ],
      "execution_count": 36,
      "outputs": [
        {
          "output_type": "execute_result",
          "data": {
            "text/plain": [
              "['sigmoid', 'softmax']"
            ]
          },
          "metadata": {
            "tags": []
          },
          "execution_count": 36
        }
      ]
    },
    {
      "cell_type": "markdown",
      "metadata": {
        "id": "s5b8yExXPeFq"
      },
      "source": [
        "# Trying the neural network with 784 input layer, 2 hidden layers with 16 nodes each, and 10 output nodes\n",
        "The activation function used is the sigmiod function for all layers and no softmax function\n"
      ]
    },
    {
      "cell_type": "code",
      "metadata": {
        "id": "33BFP4joPeFl",
        "colab": {
          "base_uri": "https://localhost:8080/"
        },
        "outputId": "0b7e301b-50f1-4a50-e90e-80792f95f0f0"
      },
      "source": [
        "nettest2 = network([784,16,16, 10],['sigmoid'], stopcrit_acc = .001,outputfunc='softmax',costfunc='MSE')\r\n",
        "nettest2.SGD(zip(train_Xv,train_yv),20, 20, .3,test_data=zip(test_Xv,test_yv))\r\n"
      ],
      "execution_count": 39,
      "outputs": [
        {
          "output_type": "stream",
          "text": [
            "pass stop criterion test\n",
            "Iter No: 0 ==> Correct answers: 1121 out of 10000 Acc:0.1121\n",
            "Iter No: 1 ==> Correct answers: 1061 out of 10000 Acc:0.1061\n",
            "stop criterion difference in accuracy is smaller than value giving stopcrit_acc:  0.001\n"
          ],
          "name": "stdout"
        }
      ]
    },
    {
      "cell_type": "code",
      "metadata": {
        "colab": {
          "base_uri": "https://localhost:8080/"
        },
        "id": "MYmtLWjCfKK-",
        "outputId": "34d5a315-f08e-4c2f-d4f5-fc202d2f93d5"
      },
      "source": [
        "nettest3 =network([784, 16,8,10],['sigmoid'],outputfunc='softmax', stopcrit_acc = .005,costfunc='MSE')\n",
        "\n",
        "nettest3.SGD(zip(train_Xv,train_yv),200, 10, .4 ,test_data=zip(test_Xv,test_yv))\n"
      ],
      "execution_count": 40,
      "outputs": [
        {
          "output_type": "stream",
          "text": [
            "pass stop criterion test\n",
            "Iter No: 0 ==> Correct answers: 7306 out of 10000 Acc:0.7306\n",
            "pass stop criterion test\n",
            "Iter No: 1 ==> Correct answers: 8342 out of 10000 Acc:0.8342\n",
            "pass stop criterion test\n",
            "Iter No: 2 ==> Correct answers: 8698 out of 10000 Acc:0.8698\n",
            "pass stop criterion test\n",
            "Iter No: 3 ==> Correct answers: 8875 out of 10000 Acc:0.8875\n",
            "pass stop criterion test\n",
            "Iter No: 4 ==> Correct answers: 8961 out of 10000 Acc:0.8961\n",
            "Iter No: 5 ==> Correct answers: 8998 out of 10000 Acc:0.8998\n",
            "stop criterion difference in accuracy is smaller than value giving stopcrit_acc:  0.005\n"
          ],
          "name": "stdout"
        }
      ]
    },
    {
      "cell_type": "markdown",
      "metadata": {
        "id": "3m2iORj9j2Ez"
      },
      "source": [
        "# Let us try different structure ( 784,10,16,10 ) and let see its effect on the learning process With ReLU\r\n",
        "\r\n",
        "It is absorvable that changing the structure changes the outcome but it will not allow for huge different in the result unless different technique is applied such edge filtering layer"
      ]
    },
    {
      "cell_type": "code",
      "metadata": {
        "id": "69N95-9Wi_QL",
        "colab": {
          "base_uri": "https://localhost:8080/"
        },
        "outputId": "82ce2cad-d0c7-4563-cfb3-8a31127b5522"
      },
      "source": [
        "nettestR = network([784,10,16, 10],['ReLU'], stopcrit_acc = .0005,outputfunc=False,costfunc='MSE')\r\n",
        "nettestR.SGD(zip(train_Xv,train_yv),20, 10, .05,test_data=zip(test_Xv,test_yv))\r\n"
      ],
      "execution_count": 50,
      "outputs": [
        {
          "output_type": "stream",
          "text": [
            "pass stop criterion test\n",
            "Iter No: 0 ==> Correct answers: 8474 out of 10000 Acc:0.8474\n",
            "pass stop criterion test\n",
            "Iter No: 1 ==> Correct answers: 8733 out of 10000 Acc:0.8733\n",
            "pass stop criterion test\n",
            "Iter No: 2 ==> Correct answers: 8780 out of 10000 Acc:0.878\n",
            "pass stop criterion test\n",
            "Iter No: 3 ==> Correct answers: 8887 out of 10000 Acc:0.8887\n",
            "Iter No: 4 ==> Correct answers: 8765 out of 10000 Acc:0.8765\n",
            "stop criterion difference in accuracy is smaller than value giving stopcrit_acc:  0.0005\n"
          ],
          "name": "stdout"
        }
      ]
    },
    {
      "cell_type": "code",
      "metadata": {
        "colab": {
          "base_uri": "https://localhost:8080/"
        },
        "id": "mKo09y5IQlW-",
        "outputId": "6be5ade0-56f3-4459-ef1f-8cfb800cb256"
      },
      "source": [
        "nettest =network([784,10,16, 10],['sigmoid'], stopcrit_acc = .0005,outputfunc=False,costfunc='MSE')\r\n",
        "nettest.SGD(zip(train_Xv,train_yv),200, 10, .03,test_data=zip(test_Xv,test_y))\r\n"
      ],
      "execution_count": null,
      "outputs": [
        {
          "output_type": "stream",
          "text": [
            "pass stop criterion test\n",
            "Iter No: 0 ==> Correct answers: 857 out of 10000 Acc:0.0857\n",
            "pass stop criterion test\n",
            "Iter No: 1 ==> Correct answers: 1856 out of 10000 Acc:0.1856\n",
            "Iter No: 2 ==> Correct answers: 1692 out of 10000 Acc:0.1692\n",
            "stop criterion difference in accuracy is smaller than value giving stopcrit_acc:  0.0005\n"
          ],
          "name": "stdout"
        }
      ]
    },
    {
      "cell_type": "code",
      "metadata": {
        "colab": {
          "base_uri": "https://localhost:8080/"
        },
        "id": "7Am2TvzQPeFr",
        "outputId": "3bff5a0e-8112-40b1-d6ce-7daaf1127c8d"
      },
      "source": [
        "best_Structure =network([784,25,16, 10],['sigmoid'], stopcrit_acc = .00005,outputfunc=False,costfunc='MSE')\n",
        "\n",
        "best_Structure.SGD(zip(train_Xv,train_yv),200, 10, .1,test_data=zip(test_Xv,test_yv))\n"
      ],
      "execution_count": 41,
      "outputs": [
        {
          "output_type": "stream",
          "text": [
            "pass stop criterion test\n",
            "Iter No: 0 ==> Correct answers: 5379 out of 10000 Acc:0.5379\n",
            "pass stop criterion test\n",
            "Iter No: 1 ==> Correct answers: 7274 out of 10000 Acc:0.7274\n",
            "pass stop criterion test\n",
            "Iter No: 2 ==> Correct answers: 7821 out of 10000 Acc:0.7821\n",
            "pass stop criterion test\n",
            "Iter No: 3 ==> Correct answers: 8149 out of 10000 Acc:0.8149\n",
            "pass stop criterion test\n",
            "Iter No: 4 ==> Correct answers: 8402 out of 10000 Acc:0.8402\n",
            "pass stop criterion test\n",
            "Iter No: 5 ==> Correct answers: 8553 out of 10000 Acc:0.8553\n",
            "pass stop criterion test\n",
            "Iter No: 6 ==> Correct answers: 8658 out of 10000 Acc:0.8658\n",
            "pass stop criterion test\n",
            "Iter No: 7 ==> Correct answers: 8729 out of 10000 Acc:0.8729\n",
            "pass stop criterion test\n",
            "Iter No: 8 ==> Correct answers: 8777 out of 10000 Acc:0.8777\n",
            "pass stop criterion test\n",
            "Iter No: 9 ==> Correct answers: 8820 out of 10000 Acc:0.882\n",
            "pass stop criterion test\n",
            "Iter No: 10 ==> Correct answers: 8874 out of 10000 Acc:0.8874\n",
            "pass stop criterion test\n",
            "Iter No: 11 ==> Correct answers: 8906 out of 10000 Acc:0.8906\n",
            "pass stop criterion test\n",
            "Iter No: 12 ==> Correct answers: 8928 out of 10000 Acc:0.8928\n",
            "pass stop criterion test\n",
            "Iter No: 13 ==> Correct answers: 8964 out of 10000 Acc:0.8964\n",
            "pass stop criterion test\n",
            "Iter No: 14 ==> Correct answers: 8977 out of 10000 Acc:0.8977\n",
            "pass stop criterion test\n",
            "Iter No: 15 ==> Correct answers: 9004 out of 10000 Acc:0.9004\n",
            "pass stop criterion test\n",
            "Iter No: 16 ==> Correct answers: 9006 out of 10000 Acc:0.9006\n",
            "pass stop criterion test\n",
            "Iter No: 17 ==> Correct answers: 9029 out of 10000 Acc:0.9029\n",
            "pass stop criterion test\n",
            "Iter No: 18 ==> Correct answers: 9046 out of 10000 Acc:0.9046\n",
            "pass stop criterion test\n",
            "Iter No: 19 ==> Correct answers: 9055 out of 10000 Acc:0.9055\n",
            "pass stop criterion test\n",
            "Iter No: 20 ==> Correct answers: 9076 out of 10000 Acc:0.9076\n",
            "Iter No: 21 ==> Correct answers: 9075 out of 10000 Acc:0.9075\n",
            "stop criterion difference in accuracy is smaller than value giving stopcrit_acc:  5e-05\n"
          ],
          "name": "stdout"
        }
      ]
    },
    {
      "cell_type": "markdown",
      "metadata": {
        "id": "10kOBYtFkufr"
      },
      "source": [
        "Trying ReLU activation function instead of sigmoid one while not changing the other hyperparameter"
      ]
    },
    {
      "cell_type": "markdown",
      "metadata": {
        "id": "8RNcoPiiktsI"
      },
      "source": [
        ""
      ]
    },
    {
      "cell_type": "markdown",
      "metadata": {
        "id": "LzEnhXpxlViV"
      },
      "source": [
        ""
      ]
    },
    {
      "cell_type": "markdown",
      "metadata": {
        "id": "agQY0LenunrK"
      },
      "source": [
        "<div class=\"alert alert-danger\"><strong>CNN</\r\n",
        "\r\n",
        "\r\n",
        "\r\n",
        "\r\n",
        "  <strong></div>"
      ]
    },
    {
      "cell_type": "markdown",
      "metadata": {
        "id": "7GE6w7cettyj"
      },
      "source": [
        ""
      ]
    },
    {
      "cell_type": "code",
      "metadata": {
        "id": "qt-CXeX8PeFs",
        "colab": {
          "base_uri": "https://localhost:8080/",
          "height": 822
        },
        "outputId": "67396763-ca75-4913-d5f0-4ebf01099364"
      },
      "source": [
        "plt.style.use('dark_background')\n",
        "plt.figure(figsize=(14,14))\n",
        "plt.plot(range(len(best_Structure.cost_tracker)),best_Structure.cost_tracker,'b-o',linewidth=3)\n",
        "plt.grid(True,color='grey')\n",
        "plt.ylabel('Accuracy')\n",
        "plt.xlabel('Epoch')\n",
        "plt.style.use('dark_background')\n",
        "# plt.plot([0,nettest.i],[nettest.cost_tracker[-1],nettest.cost_tracker[-1]],'b--')\n",
        "plt.show()"
      ],
      "execution_count": 46,
      "outputs": [
        {
          "output_type": "display_data",
          "data": {
            "image/png": "[encoded data removed]",
            "text/plain": [
              "<Figure size 1008x1008 with 1 Axes>"
            ]
          },
          "metadata": {
            "tags": []
          }
        }
      ]
    },
    {
      "cell_type": "markdown",
      "metadata": {
        "id": "r2hzBZeitKZ8"
      },
      "source": [
        "# MNIST Code Along with CNN\r\n",
        "\r\n",
        "* convolutional layers\r\n",
        "* filters/kernels\r\n",
        "* pooling\r\n",
        "* depth, stride and zero-padding\r\n",
        "\r\n",
        "Note CNN expects 2-dimensional data."
      ]
    },
    {
      "cell_type": "code",
      "metadata": {
        "id": "slT21RoBlUk0"
      },
      "source": [
        "import torch\r\n",
        "import torch.nn as nn\r\n",
        "import torch.nn.functional as F\r\n",
        "from torch.utils.data import DataLoader\r\n",
        "from torchvision import datasets, transforms\r\n",
        "from torchvision.utils import make_grid\r\n",
        "from sklearn.metrics import confusion_matrix\r\n",
        "\r\n"
      ],
      "execution_count": 22,
      "outputs": []
    },
    {
      "cell_type": "markdown",
      "metadata": {
        "id": "EK-gKl19WpV3"
      },
      "source": [
        "# Creat batches for TensorFlow \r\n",
        "Note the method down converts the arr to tensor but we will not be using it down as an error has occurs and we will revert to Torch vision lib to get the data"
      ]
    },
    {
      "cell_type": "code",
      "metadata": {
        "id": "GVL0AVYHWnj3"
      },
      "source": [
        "def Tensor_small_batches(data, batch_size=10,shape = (1), normalize = None):\r\n",
        "  \r\n",
        "  if normalize:\r\n",
        "    n = len(data)\r\n",
        "\r\n",
        "    temp = [ arr.reshape(shape)/np.max(arr) for arr in  data]\r\n",
        "    temp2 = [ arr for arr in  data]\r\n",
        "    mini_batches = [\r\n",
        "                    temp[k:k+ batch_size]\r\n",
        "                    for k in range(0, n, batch_size)]\r\n",
        "\r\n",
        "  else:\r\n",
        "    n = len(data)\r\n",
        "\r\n",
        "    temp = [ arr.reshape(shape) for arr in  data]\r\n",
        "    temp2 = [ arr for arr in  data]\r\n",
        "    mini_batches = [\r\n",
        "                    temp[k:k+ batch_size]\r\n",
        "                    for k in range(0, n, batch_size)]\r\n",
        "\r\n",
        "  \r\n",
        "\r\n",
        "  return torch.tensor(mini_batches)\r\n",
        "\r\n",
        "xTensor_mini_batches = Tensor_small_batches(train_X,10,(1,28,28),normalize =True)\r\n",
        "\r\n",
        "yTensor_mini_batches = Tensor_small_batches(train_y,10 ,train_y[0].shape )"
      ],
      "execution_count": null,
      "outputs": []
    },
    {
      "cell_type": "code",
      "metadata": {
        "id": "EU9-f-PgTa5R"
      },
      "source": [
        "transform = transforms.ToTensor()\r\n",
        "\r\n",
        "train_data = datasets.MNIST(root='../Data', train=True, download=True, transform=transform)\r\n",
        "test_data = datasets.MNIST(root='../Data', train=False, download=True, transform=transform)\r\n",
        "train_loader = DataLoader(train_data, batch_size=10, shuffle=True)\r\n",
        "test_loader = DataLoader(test_data, batch_size=10, shuffle=False)"
      ],
      "execution_count": 4,
      "outputs": []
    },
    {
      "cell_type": "markdown",
      "metadata": {
        "id": "CXZflE1jUriY"
      },
      "source": [
        "# convolution output is passed into the fully connected layers"
      ]
    },
    {
      "cell_type": "code",
      "metadata": {
        "id": "NR_sqqL7UzZo"
      },
      "source": [
        "class ConvolutionalNetwork(nn.Module):\r\n",
        "    def __init__(self):\r\n",
        "        super().__init__()\r\n",
        "        self.conv1 = nn.Conv2d(1, 6, 3, 1)\r\n",
        "        self.conv2 = nn.Conv2d(6, 16, 3, 1)\r\n",
        "        self.fc1 = nn.Linear(5*5*16, 120)\r\n",
        "        self.fc2 = nn.Linear(120, 84)\r\n",
        "        self.fc3 = nn.Linear(84,10)\r\n",
        "\r\n",
        "    def forward(self, X):\r\n",
        "        X = F.relu(self.conv1(X))\r\n",
        "        X = F.max_pool2d(X, 2, 2)\r\n",
        "        X = F.relu(self.conv2(X))\r\n",
        "        X = F.max_pool2d(X, 2, 2)\r\n",
        "        X = X.view(-1, 5*5*16)\r\n",
        "        X = F.relu(self.fc1(X))\r\n",
        "        X = F.relu(self.fc2(X))\r\n",
        "        X = self.fc3(X)\r\n",
        "        return F.log_softmax(X, dim=1)\r\n",
        "  \r\n",
        "model = ConvolutionalNetwork()\r\n",
        "criterion = nn.CrossEntropyLoss()\r\n",
        "optimizer = torch.optim.Adam(model.parameters(), lr=0.001)"
      ],
      "execution_count": 10,
      "outputs": []
    },
    {
      "cell_type": "code",
      "metadata": {
        "id": "kpz6PEyxTTkR",
        "outputId": "3c48657d-a277-4609-a3d8-813882899016",
        "colab": {
          "base_uri": "https://localhost:8080/",
          "height": 0
        }
      },
      "source": [
        "\r\n",
        "\r\n",
        "epochs = 5\r\n",
        "train_losses = []\r\n",
        "test_losses = []\r\n",
        "train_correct = []\r\n",
        "test_correct = []\r\n",
        "\r\n",
        "for i in range(epochs):\r\n",
        "    trn_corr = 0\r\n",
        "    tst_corr = 0\r\n",
        "    \r\n",
        "    # Run the training batches   train_loader):#\r\n",
        "    for b, (X_train, y_train) in enumerate( train_loader):#zip(xTensor_mini_batches,yTensor_mini_batches)):\r\n",
        "        b+=1\r\n",
        "        # print(y_train.shape)\r\n",
        "        # print(y_train[0])\r\n",
        "        # print(X_train.shape)\r\n",
        "        # print(X_train[0])\r\n",
        "        # # Apply the model\r\n",
        "        y_pred = model(X_train)  # we don't flatten X-train here\r\n",
        "        loss = criterion(y_pred, y_train)\r\n",
        " \r\n",
        "        # Tally the number of correct predictions\r\n",
        "        predicted = torch.max(y_pred.data, 1)[1]\r\n",
        "        batch_corr = (predicted == y_train).sum()\r\n",
        "        trn_corr += batch_corr\r\n",
        "        \r\n",
        "        # Update parameters\r\n",
        "        optimizer.zero_grad()\r\n",
        "        loss.backward()\r\n",
        "        optimizer.step()\r\n",
        "        \r\n",
        "        # Print interim results\r\n",
        "        if b%600 == 0:\r\n",
        "            print(f'epoch: {i:2}  batch: {b:4} [{10*b:6}/60000]  loss: {loss.item():10.8f}  \\\r\n",
        "accuracy: {trn_corr.item()*100/(10*b):7.3f}%')\r\n",
        "        \r\n",
        "    train_losses.append(loss)\r\n",
        "    train_correct.append(trn_corr)\r\n",
        "        \r\n",
        "    # Run the testing batches\r\n",
        "    with torch.no_grad():\r\n",
        "        for b, (X_test, y_test) in enumerate(test_loader):\r\n",
        "\r\n",
        "            # Apply the model\r\n",
        "            y_val = model(X_test)\r\n",
        "\r\n",
        "            # Tally the number of correct predictions\r\n",
        "            predicted = torch.max(y_val.data, 1)[1] \r\n",
        "            tst_corr += (predicted == y_test).sum()\r\n",
        "            \r\n",
        "    loss = criterion(y_val, y_test)\r\n",
        "    test_losses.append(loss)\r\n",
        "    test_correct.append(tst_corr)\r\n",
        "        "
      ],
      "execution_count": 13,
      "outputs": [
        {
          "output_type": "stream",
          "text": [
            "epoch:  0  batch:  600 [  6000/60000]  loss: 0.00001137  accuracy:  99.600%\n",
            "epoch:  0  batch: 1200 [ 12000/60000]  loss: 0.19689891  accuracy:  99.400%\n",
            "epoch:  0  batch: 1800 [ 18000/60000]  loss: 0.00002974  accuracy:  99.411%\n",
            "epoch:  0  batch: 2400 [ 24000/60000]  loss: 0.00039813  accuracy:  99.338%\n",
            "epoch:  0  batch: 3000 [ 30000/60000]  loss: 0.00169559  accuracy:  99.300%\n",
            "epoch:  0  batch: 3600 [ 36000/60000]  loss: 0.00662870  accuracy:  99.258%\n",
            "epoch:  0  batch: 4200 [ 42000/60000]  loss: 0.00002471  accuracy:  99.233%\n",
            "epoch:  0  batch: 4800 [ 48000/60000]  loss: 0.00000826  accuracy:  99.221%\n",
            "epoch:  0  batch: 5400 [ 54000/60000]  loss: 0.00001693  accuracy:  99.220%\n",
            "epoch:  0  batch: 6000 [ 60000/60000]  loss: 0.00011472  accuracy:  99.230%\n",
            "epoch:  1  batch:  600 [  6000/60000]  loss: 0.00124071  accuracy:  99.267%\n",
            "epoch:  1  batch: 1200 [ 12000/60000]  loss: 0.00000186  accuracy:  99.367%\n",
            "epoch:  1  batch: 1800 [ 18000/60000]  loss: 0.00006398  accuracy:  99.378%\n",
            "epoch:  1  batch: 2400 [ 24000/60000]  loss: 0.00012705  accuracy:  99.325%\n",
            "epoch:  1  batch: 3000 [ 30000/60000]  loss: 0.00037579  accuracy:  99.320%\n",
            "epoch:  1  batch: 3600 [ 36000/60000]  loss: 0.00010593  accuracy:  99.314%\n",
            "epoch:  1  batch: 4200 [ 42000/60000]  loss: 0.08907328  accuracy:  99.326%\n",
            "epoch:  1  batch: 4800 [ 48000/60000]  loss: 0.00002134  accuracy:  99.331%\n",
            "epoch:  1  batch: 5400 [ 54000/60000]  loss: 0.00027515  accuracy:  99.324%\n",
            "epoch:  1  batch: 6000 [ 60000/60000]  loss: 0.00010633  accuracy:  99.342%\n",
            "epoch:  2  batch:  600 [  6000/60000]  loss: 0.00000650  accuracy:  99.600%\n",
            "epoch:  2  batch: 1200 [ 12000/60000]  loss: 0.00011452  accuracy:  99.517%\n",
            "epoch:  2  batch: 1800 [ 18000/60000]  loss: 0.00000844  accuracy:  99.539%\n",
            "epoch:  2  batch: 2400 [ 24000/60000]  loss: 0.00000001  accuracy:  99.508%\n",
            "epoch:  2  batch: 3000 [ 30000/60000]  loss: 0.00036334  accuracy:  99.450%\n",
            "epoch:  2  batch: 3600 [ 36000/60000]  loss: 0.12150718  accuracy:  99.456%\n",
            "epoch:  2  batch: 4200 [ 42000/60000]  loss: 0.00103182  accuracy:  99.421%\n",
            "epoch:  2  batch: 4800 [ 48000/60000]  loss: 0.00014312  accuracy:  99.419%\n",
            "epoch:  2  batch: 5400 [ 54000/60000]  loss: 0.00029123  accuracy:  99.378%\n",
            "epoch:  2  batch: 6000 [ 60000/60000]  loss: 0.00418409  accuracy:  99.370%\n",
            "epoch:  3  batch:  600 [  6000/60000]  loss: 0.00307325  accuracy:  99.583%\n",
            "epoch:  3  batch: 1200 [ 12000/60000]  loss: 0.00000657  accuracy:  99.533%\n",
            "epoch:  3  batch: 1800 [ 18000/60000]  loss: 0.00000831  accuracy:  99.583%\n",
            "epoch:  3  batch: 2400 [ 24000/60000]  loss: 0.00304953  accuracy:  99.546%\n",
            "epoch:  3  batch: 3000 [ 30000/60000]  loss: 0.00002796  accuracy:  99.520%\n",
            "epoch:  3  batch: 3600 [ 36000/60000]  loss: 0.00165483  accuracy:  99.503%\n",
            "epoch:  3  batch: 4200 [ 42000/60000]  loss: 0.00006379  accuracy:  99.462%\n",
            "epoch:  3  batch: 4800 [ 48000/60000]  loss: 0.00001366  accuracy:  99.483%\n",
            "epoch:  3  batch: 5400 [ 54000/60000]  loss: 0.00072515  accuracy:  99.498%\n",
            "epoch:  3  batch: 6000 [ 60000/60000]  loss: 0.00000548  accuracy:  99.485%\n",
            "epoch:  4  batch:  600 [  6000/60000]  loss: 0.00114412  accuracy:  99.550%\n",
            "epoch:  4  batch: 1200 [ 12000/60000]  loss: 0.00055915  accuracy:  99.558%\n",
            "epoch:  4  batch: 1800 [ 18000/60000]  loss: 0.00046118  accuracy:  99.539%\n",
            "epoch:  4  batch: 2400 [ 24000/60000]  loss: 0.00000056  accuracy:  99.513%\n",
            "epoch:  4  batch: 3000 [ 30000/60000]  loss: 0.00000737  accuracy:  99.503%\n",
            "epoch:  4  batch: 3600 [ 36000/60000]  loss: 0.00010233  accuracy:  99.494%\n",
            "epoch:  4  batch: 4200 [ 42000/60000]  loss: 0.00087003  accuracy:  99.495%\n",
            "epoch:  4  batch: 4800 [ 48000/60000]  loss: 0.00000019  accuracy:  99.492%\n",
            "epoch:  4  batch: 5400 [ 54000/60000]  loss: 0.00151036  accuracy:  99.476%\n",
            "epoch:  4  batch: 6000 [ 60000/60000]  loss: 0.00023693  accuracy:  99.472%\n"
          ],
          "name": "stdout"
        }
      ]
    },
    {
      "cell_type": "markdown",
      "metadata": {
        "id": "_TRH4VzFZBxh"
      },
      "source": [
        "# CNN\r\n",
        "## confusion matrix"
      ]
    },
    {
      "cell_type": "code",
      "metadata": {
        "id": "SIONbNDNY4HT",
        "outputId": "c8aadfb9-c088-459f-d7b5-fff545f9cf2f",
        "colab": {
          "base_uri": "https://localhost:8080/",
          "height": 628
        }
      },
      "source": [
        "test_load_all = DataLoader(test_data, batch_size=10000, shuffle=False)\r\n",
        "correct = 0\r\n",
        "for X_test, y_test in test_load_all:\r\n",
        "    y_val = model(X_test)  # we don't flatten the data this time\r\n",
        "    predicted = torch.max(y_val,1)[1]\r\n",
        "    correct += (predicted == y_test).sum()\r\n",
        "\r\n",
        "print(f'Test accuracy: {correct.item()}/{len(test_data)} = {correct.item()*100/(len(test_data)):7.3f}%')\r\n",
        "# print(np.arange(10).reshape(1,10))\r\n",
        "print()\r\n",
        "# print(predicted.view(-1))\r\n",
        "# print the confusion matrix\r\n",
        "\r\n",
        "plt.style.use('dark_background')\r\n",
        "plt.figure(figsize=(16,10))\r\n",
        "plt.xticks(fontsize=14,ticks=range(9,-1,-1),labels=['3','p','3','p','3','p','3','p','3','p'])\r\n",
        "np.set_printoptions(formatter=dict(int=lambda x: f'{x:4}'))\r\n",
        "\r\n",
        "sns.heatmap(confusion_matrix(predicted.view(-1), y_test.view(-1)),  annot=True, annot_kws={\"size\": 14})\r\n",
        "# plt.xticks(fontsize=14,ticks=range(9,-1,-1),labels=['3','p','3','p','3','p','3','p','3','p'])\r\n",
        "# plt.yticks(fontsize=14)\r\n",
        "plt.xticks(fontsize=14)\r\n",
        "plt.show()"
      ],
      "execution_count": 54,
      "outputs": [
        {
          "output_type": "stream",
          "text": [
            "Test accuracy: 9883/10000 =  98.830%\n",
            "\n"
          ],
          "name": "stdout"
        },
        {
          "output_type": "display_data",
          "data": {
            "image/png": "[encoded data removed]",
            "text/plain": [
              "<Figure size 1152x720 with 2 Axes>"
            ]
          },
          "metadata": {
            "tags": []
          }
        }
      ]
    },
    {
      "cell_type": "markdown",
      "metadata": {
        "id": "R1yL3I0miP5x"
      },
      "source": [
        "## Let us have fun and print the percision and recall for each classfication "
      ]
    },
    {
      "cell_type": "code",
      "metadata": {
        "id": "x7wJsWx3iOxf",
        "outputId": "e74c6df7-2b80-4487-8c35-daa021e9de74",
        "colab": {
          "base_uri": "https://localhost:8080/",
          "height": 595
        }
      },
      "source": [
        "def precision_recall(mat):\r\n",
        "  precision_colsum = [ sum(col) for col in mat.T]\r\n",
        "  precall_rawsum = [ sum(raw) for raw in mat]\r\n",
        "  precesion = []\r\n",
        "  recall =[]\r\n",
        "  for j in range(len(mat)):\r\n",
        "    precesion.append(mat[j,j] / precision_colsum[j])\r\n",
        "    recall.append(mat[j,j] / precall_rawsum[j])\r\n",
        "  plt.style.use('dark_background')\r\n",
        "  plt.figure(figsize=(3,10))\r\n",
        "  import pandas\r\n",
        "  df = pandas.DataFrame(np.c_[precesion,recall],columns= ['precesion','recall'])\r\n",
        "  plt.xticks(fontsize=14)\r\n",
        "  sns.heatmap(df,  annot=True, annot_kws={\"size\": 14})\r\n",
        "  # plt.xticks(fontsize=14,ticks=range(9,-1,-1),labels=['3','p','3','p','3','p','3','p','3','p'])\r\n",
        "  # plt.yticks(fontsize=14)\r\n",
        "\r\n",
        "  plt.xticks(fontsize=14)\r\n",
        "  plt.show()\r\n",
        "\r\n",
        "\r\n",
        "\r\n",
        "\r\n",
        "precision_recall(confusion_matrix(predicted.view(-1), y_test.view(-1)))\r\n",
        "\r\n"
      ],
      "execution_count": 55,
      "outputs": [
        {
          "output_type": "display_data",
          "data": {
            "image/png": "[encoded data removed]",
            "text/plain": [
              "<Figure size 216x720 with 2 Axes>"
            ]
          },
          "metadata": {
            "tags": []
          }
        }
      ]
    },
    {
      "cell_type": "markdown",
      "metadata": {
        "id": "7To753bwjFk0"
      },
      "source": [
        "# **Very impressive results some number has 100% percision and other has 100% recall**"
      ]
    },
    {
      "cell_type": "markdown",
      "metadata": {
        "id": "ONNb9hFWos4p"
      },
      "source": [
        "#ANN\r\n",
        "## Let us add a method to print the confusion matrix with self made method we will add the method to the created object\r\n",
        "We will import seaborn lib to help visulize the result"
      ]
    },
    {
      "cell_type": "code",
      "metadata": {
        "id": "vMxhl5J4o8i8"
      },
      "source": [
        ""
      ],
      "execution_count": null,
      "outputs": []
    },
    {
      "cell_type": "code",
      "metadata": {
        "id": "mcAhuJG6Y6jL"
      },
      "source": [
        "from rutaul import pb , pg , pr , py\r\n",
        "import seaborn as sns\r\n",
        "import pdb\r\n"
      ],
      "execution_count": 52,
      "outputs": []
    },
    {
      "cell_type": "code",
      "metadata": {
        "colab": {
          "base_uri": "https://localhost:8080/",
          "height": 595
        },
        "id": "wIshhWkle64t",
        "outputId": "56a81afd-67b0-43d9-c7e0-22ed6e6fd855"
      },
      "source": [
        "\r\n",
        "def confusion_matrix_method(self,test_data):\r\n",
        "\r\n",
        "  test_results = [(self.forward(x), y) for (x, y) in test_data]\r\n",
        "  # pdb.set_trace(test_results[0][0])\r\n",
        "  l = len(test_results[0][0])\r\n",
        "  conf_mat = np.zeros((l,l))\r\n",
        "\r\n",
        "  # np.argmax(x)\r\n",
        "  for x, y in test_results:\r\n",
        "    col = int(np.argmax(x)) \r\n",
        "    conf_mat[y][col] +=1\r\n",
        "  plt.style.use('dark_background')\r\n",
        "  plt.figure(figsize=(16,10))\r\n",
        "  plt.xticks(fontsize=14,ticks=range(9,-1,-1),labels=['3','p','3','p','3','p','3','p','3','p'])\r\n",
        "  np.set_printoptions(formatter=dict(int=lambda x: f'{x:4}'))\r\n",
        "\r\n",
        "  sns.heatmap(conf_mat.astype(int),  annot=True, annot_kws={\"size\": 14})\r\n",
        "  # plt.xticks(fontsize=14,ticks=range(9,-1,-1),labels=['3','p','3','p','3','p','3','p','3','p'])\r\n",
        "  # plt.yticks(fontsize=14)\r\n",
        "  plt.xticks(fontsize=14)\r\n",
        "  plt.show()\r\n",
        "\r\n",
        "  return conf_mat.astype(int)\r\n",
        "\r\n",
        "\r\n",
        "\r\n",
        "best_Structure.confusion_matrix_cal  = confusion_matrix_method\r\n",
        "best_Structure.confusion_matrix  = best_Structure.confusion_matrix_cal(best_Structure,zip(test_Xv,test_y))\r\n",
        "# xticklabels=[]"
      ],
      "execution_count": 53,
      "outputs": [
        {
          "output_type": "display_data",
          "data": {
            "image/png": "[encoded data removed]",
            "text/plain": [
              "<Figure size 1152x720 with 2 Axes>"
            ]
          },
          "metadata": {
            "tags": []
          }
        }
      ]
    },
    {
      "cell_type": "markdown",
      "metadata": {
        "id": "gsu_IQc3oIO7"
      },
      "source": [
        ""
      ]
    },
    {
      "cell_type": "markdown",
      "metadata": {
        "id": "HPlMTO7CoIsi"
      },
      "source": [
        "## Printing ANN the percision and recall for each [link text](https://)classfication \r\n"
      ]
    },
    {
      "cell_type": "code",
      "metadata": {
        "colab": {
          "base_uri": "https://localhost:8080/",
          "height": 596
        },
        "id": "xYgugyRdoFWC",
        "outputId": "7673d70b-c098-43f2-fabe-e737f8859bd1"
      },
      "source": [
        "\r\n",
        "precision_recall(best_Structure.confusion_matrix)\r\n",
        "\r\n",
        "\r\n"
      ],
      "execution_count": null,
      "outputs": [
        {
          "output_type": "display_data",
          "data": {
            "image/png": "[encoded data removed]",
            "text/plain": [
              "<Figure size 216x720 with 2 Axes>"
            ]
          },
          "metadata": {
            "tags": []
          }
        }
      ]
    }
  ]
}