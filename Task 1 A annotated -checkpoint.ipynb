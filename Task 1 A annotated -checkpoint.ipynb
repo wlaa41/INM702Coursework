{
 "cells": [
  {
   "cell_type": "markdown",
   "metadata": {},
   "source": [
    "##### Importing Library"
   ]
  },
  {
   "cell_type": "code",
   "execution_count": 25,
   "metadata": {},
   "outputs": [],
   "source": [
    "import packages.grid as grid\n",
    "import packages.node as node\n",
    "import numpy as np\n",
    "import packages.path as pth\n",
    "import pdb\n",
    "import sys\n",
    "sys.path.insert(1, 'D:\\AAlearnAA\\Study\\python')\n",
    "from rutaul.prnt import pg,pm,pr,py,pb"
   ]
  },
  {
   "cell_type": "markdown",
   "metadata": {},
   "source": [
    "#### A loop that searches for square with zeros to without waiting the main loop"
   ]
  },
  {
   "cell_type": "code",
   "execution_count": 26,
   "metadata": {},
   "outputs": [],
   "source": [
    "def loopforthezeros(path):\n",
    "    x, y = path.currentlocation\n",
    "\n",
    "    # pdb.set_trace()#\n",
    "    if x + 1 < gridlength:\n",
    "        if d.grid[x+1, y] == 0:\n",
    "            # py('ADD Zero DOWN')\n",
    "            addzeroPATH(path, x+1, y, 'down')\n",
    "\n",
    "    if y + 1 < gridwidth:\n",
    "        if d.grid[x, y+1] == 0:\n",
    "            # pdb.set_trace()#\n",
    "            # py('ADD Zero RIGHT')\n",
    "            addzeroPATH(path, x, y+1,'right')\n",
    "\n",
    "    if x - 1 >= 0:\n",
    "        if d.grid[x-1, y] == 0:\n",
    "            # py('ADD Zero UP')\n",
    "            addzeroPATH(path, x-1, y, 'up')\n",
    "\n",
    "    if y - 1 >= 0:\n",
    "        if d.grid[x, y-1] == 0:\n",
    "            # py('ADD Zero LEFT')\n",
    "            addzeroPATH(path, x, y-1, 'left')\n",
    "    # # pdb.set_trace()#\n",
    "\n",
    "\n",
    "def addzeroPATH(path: pth, x, y,info):\n",
    "    # check rules\n",
    "    # if the cell has been visited by the path or in the adjusant locationf\n",
    "    if path.weight + d.grid[x, y] < d.reachedpointgrid[x, y]:\n",
    "        if (x, y) not in path.path2start:\n",
    "            tobeaddedThencheckiftheagentarrive(path, x, y)\n",
    "            loopforthezeros(\n",
    "                to_be_added2seedingpath[len(to_be_added2seedingpath)-1])"
   ]
  },
  {
   "cell_type": "markdown",
   "metadata": {},
   "source": [
    "#### Creating a path at any node and examin all of the adjacent direction UP DOWN LEFT RIGHT\n",
    "this check to avoid any closed loop"
   ]
  },
  {
   "cell_type": "code",
   "execution_count": 28,
   "metadata": {},
   "outputs": [],
   "source": [
    "def createpath(path: pth ):\n",
    "    x,y = path.currentlocation\n",
    "    if  x- 1 >= 0: # -- CHECK THE GRID DIMENESION\n",
    "        # pg('CALLING ADD UP')\n",
    "        addup(path, x-1,y)\n",
    "    if x + 1 < gridlength:# -- CHECK THE GRID DIMENESION\n",
    "        # pg('CALLING ADD DOWN')\n",
    "        adddown(path,x+1,y)\n",
    "\n",
    "    if y + 1 < gridwidth:# -- CHECK THE GRID DIMENESION\n",
    "        # pg('CALLING ADD RIGHT')\n",
    "        addright(path, x, y+1)\n",
    "    \n",
    "    if y - 1 >= 0:  # -- CHECK THE GRID DIMENESION\n",
    "        # pg('CALLING ADD LEFT')\n",
    "        addleft(path, x, y-1)"
   ]
  },
  {
   "cell_type": "markdown",
   "metadata": {},
   "source": [
    "##### The four direction check"
   ]
  },
  {
   "cell_type": "code",
   "execution_count": null,
   "metadata": {},
   "outputs": [],
   "source": [
    "def addup(path: pth,x,y):\n",
    "    # check rules FOR UP \n",
    "    # if the path in the extreme left then it should not go UP\n",
    "    if path.currentlocation[1] < gridwidth - 2:\n",
    "        # if the cell has been visited by the path or in the adjusant location\n",
    "        if (x,y) not in path.path2start:\n",
    "            if (x, y) not in path.path2startadjacent:\n",
    "                # pr(\"add UP\")\n",
    "                tobeaddedThencheckiftheagentarrive(path  , x, y)\n",
    "\n",
    "def adddown(path: pth,x,y):\n",
    "    # check rules FOR DOWN\n",
    "    # if the cell has been visited by the path or in the adjusant locationf\n",
    "    if (x,y) not in path.path2start:\n",
    "        if (x, y) not in path.path2startadjacent:\n",
    "            # pr(\"add DOWN\")\n",
    "            tobeaddedThencheckiftheagentarrive(path  , x, y)\n",
    "\n",
    "def addright(path: pth, x, y):\n",
    "    # check rules\n",
    "    # if the cell has been visited by the path or in the adjusant locationf\n",
    "    if (x, y) not in path.path2start:\n",
    "        if (x, y) not in path.path2startadjacent:\n",
    "            # pr(\"add RIGHT\")\n",
    "            tobeaddedThencheckiftheagentarrive(path  , x, y)\n",
    "\n",
    "\n",
    "def addleft(path: pth, x, y):\n",
    "    # check rules\n",
    "    if path.currentlocation[0] < gridlength - 2 :\n",
    "        # if the cell has been visited by the path or in the adjusant locationf\n",
    "        if (x, y) not in path.path2start:\n",
    "            if (x, y) not in path.path2startadjacent:\n",
    "                # pr(\"add LEFT\")\n",
    "                tobeaddedThencheckiftheagentarrive(path  , x, y)"
   ]
  },
  {
   "cell_type": "code",
   "execution_count": null,
   "metadata": {},
   "outputs": [],
   "source": [
    "# While iterating in the seeding paths \"seedingpath list\" we add the braches in this array  \n",
    "# To avoid adding whilt iterating "
   ]
  },
  {
   "cell_type": "code",
   "execution_count": null,
   "metadata": {},
   "outputs": [],
   "source": [
    "def tobeaddedThencheckiftheagentarrive(path: pth, x, y):\n",
    "    \"\"\"Adding to the seeding path but through mid list To avoid adding whilt iterating \n",
    "\n",
    "    Args:\n",
    "        path (pth): Father path\n",
    "        x (int): New point coordinate column number \"Child path\"\n",
    "        y (int): New point coordinate column number \"Child path\"\n",
    "    \"\"\"\n",
    "    # Checking if the cell has been visited by another path in shorter time \n",
    "    # if yes then no path will be created\n",
    "    # pdb.set_trace()#\n",
    "    if path.weight + d.grid[x, y] < d.reachedpointgrid[x,y]:\n",
    "        d.reachedpointgrid[x,y] = path.weight + d.grid[x,y] \n",
    "        temp = pth.path((x, y), d.grid[x, y], d.grid[x, y], path)\n",
    "\n",
    "        to_be_added2seedingpath.append( temp)\n",
    "        checkiftheagentarrive(temp)\n",
    "        # loopforthezeros(temp)\n",
    "        "
   ]
  },
  {
   "cell_type": "code",
   "execution_count": null,
   "metadata": {},
   "outputs": [],
   "source": [
    "# Check if one of the pathes reachs the end point"
   ]
  },
  {
   "cell_type": "code",
   "execution_count": null,
   "metadata": {},
   "outputs": [],
   "source": [
    "def checkiftheagentarrive(path):\n",
    "    x,y = path.currentlocation\n",
    "    \n",
    "    if (x, y) == (gridlength-1,gridwidth-1):\n",
    "    \n",
    "        arrivingweight = path.weight# + d.grid[x, y]\n",
    "        d.reachedpointgrid[x,y]\n",
    "        global notreachedend \n",
    "        notreachedend = False\n",
    "        pr('...............................................................')\n",
    "        pr(d.grid)\n",
    "        pb(d.reachedpointgrid)\n",
    "        pg(f' {path.path2start}  W: {arrivingweight}')\n",
    "        pr('...............................................................')\n",
    "        pr(\"               .........  Bingooooooo .........\")\n",
    "        pr(\"               .........  Bingooooooo .........\")\n",
    "        pr(\"               .......                  .......\")\n",
    "        pr('               .....         \\(\")/        .....')\n",
    "        pr(\"               .....         -( )-        .....\")\n",
    "        pr(\"               .....         /(_)\\        .....\")\n",
    "        pr(\"               .......                  .......\")\n",
    "        pr(\"               .........  Bingooooooo .........\")\n",
    "        pr(\"               .........  Bingooooooo .........\")\n",
    "        pr('...............................................................')\n",
    "        pb('        .__                       __                     __    ') \n",
    "        pb('  ______|  |__    ____  _______ _/  |_   ____    _______/  |_  ') \n",
    "        pb(' /  ___/|  |  \\  /  _ \\ \\_  __ \\\\   __\\_/ __ \\  /  ___/\\   __\\ ') \n",
    "        pb(' \\___ \\ |   Y  \\(  <_> ) |  | \\/ |  |  \\  ___/  \\___ \\  |  |   ') \n",
    "        pb('/____  >|___|  / \\____/  |__|    |__|   \\___  >/____  > |__|   ') \n",
    "        pb('     \\/      \\/                             \\/      \\/         ') \n",
    "        # print(f' {path.path2start}  W: {path.weight}')\n",
    "        pr('...............................................................')\n",
    "        drawpath(path)\n",
    "# Looking in one of the four direction for zeros nodes so we can add the braches of those nodes \n",
    "# right away as zero stand for no time the function berform test then call addzero function"
   ]
  },
  {
   "cell_type": "code",
   "execution_count": null,
   "metadata": {},
   "outputs": [],
   "source": []
  },
  {
   "cell_type": "markdown",
   "metadata": {},
   "source": [
    "# Uncoment only in small grid size"
   ]
  },
  {
   "cell_type": "code",
   "execution_count": null,
   "metadata": {},
   "outputs": [],
   "source": [
    "def drawpath(path):\n",
    "    pass\n",
    "    \"\"\" Uncoment only in small grid size\n",
    "    grid = d.grid.tolist()\n",
    "    z = np.ones(gridsize).astype(int)\n",
    "\n",
    "    import matplotlib\n",
    "    import matplotlib.pyplot as plt\n",
    "    from matplotlib.colors import BoundaryNorm\n",
    "    from matplotlib.ticker import MaxNLocator\n",
    "    t = 0\n",
    "    for cell in path.path2start:\n",
    "        grid[cell[0]][cell[1]] = '-'\n",
    "        z[gridlength- 1- cell[0]][cell[1]] = t\n",
    "        # t+=1\n",
    " \n",
    " \n",
    "    x = np.arange(-.5, gridlength+.5, 1)  # len = 11\n",
    "    y = np.arange(-.5, gridwidth+.5, 1)  # len = 7\n",
    "    cmap = plt.get_cmap('Spectral')  #\n",
    "    plt.axis('off')\n",
    "    # pdb.set_trace()\n",
    "\n",
    "    plt.style.use('dark_background')\n",
    "    z.reshape(gridwidth,gridlength)\n",
    "    plt.pcolormesh(y, x, z, cmap=cmap, edgecolor='black',snap= True)\n",
    "    \n",
    "    for row in range(0, gridlength):\n",
    "        for cell in range(0, gridwidth):\n",
    "            plt.text(cell, row, d.grid[gridlength - row-1][cell], color='white', ha='center', va='center',                          fontsize=10)\n",
    "\n",
    "    plt.show()\n",
    "    \"\"\""
   ]
  },
  {
   "cell_type": "markdown",
   "metadata": {},
   "source": [
    "#### Parameter and different methods to create random grid or grid with many zeros to \n",
    "#### trick the algorithm"
   ]
  },
  {
   "cell_type": "code",
   "execution_count": null,
   "metadata": {},
   "outputs": [],
   "source": [
    "# ------------------- Creating the random grid\n",
    "gridsize = (100, 90)\n",
    "\n",
    "d = grid.gridgen(gridsize) # Creating the grid ................\n",
    "\n",
    "# # pr(d.reachedpointgrid )\n",
    "# # # d.fillnaughty()\n",
    "# # gridsize = d.fillmaddness()\n",
    "# gridsize = d.jiktest()\n",
    "# gridsize = d.fillreallynaughtyLEFTUP()\n",
    "# # gridlength,gridwidth = gridsize\n",
    "# # d.reachedpointgrid = 999 * np.ones(gridsize).astype(int)\n",
    "# # d.fillreallynaughtyLEFTUP()\n",
    "# # d.fillreallynaughtyLEFTUP()\n",
    "# # d.grid = np.ones(gridsize)\n",
    "d.grid = d.fillgridMOREZeros(morezeroby=1)\n",
    "# # d.easytest()\n",
    "# # pg(d.grid)\n",
    "gridlength, gridwidth = gridsize\n",
    "visitedlist = [(0, 0)]\n",
    "d.reachedpointgrid = 999 * np.ones(gridsize).astype(int)\n",
    "\n",
    "# ---------------------------------------------\n",
    "\n",
    "# ------------- Creating lists to hold data\n",
    "reachednodes = [(0, 0)]\n",
    "WEIGHTreachednodes = []\n",
    "DONEseedingpath = []\n",
    "seedingpath = []\n",
    "terminatedpath = []\n",
    "to_be_added2seedingpath = [] # This list is created because while\n",
    "# we iterate through seeding list we save all the next seeding paths\n",
    "# ---------------------------------------------\n",
    "\n",
    "# ------------- Global var for all functions to mainpulate \n",
    "notreachedend = True\n",
    "# ---------------------------------------------\n",
    "\n",
    "\n",
    "\n",
    "seedingpath.append(pth.path((0, 0), 0, 0, pth.start(0, 0)))\n",
    "d.reachedpointgrid[0, 0] = 0\n",
    "loopforthezeros(seedingpath[0])\n",
    "\n",
    "seedingpath = seedingpath + to_be_added2seedingpath\n",
    "\n",
    "Tick = 0"
   ]
  },
  {
   "cell_type": "markdown",
   "metadata": {},
   "source": [
    "### The loop where the count will start"
   ]
  },
  {
   "cell_type": "code",
   "execution_count": null,
   "metadata": {},
   "outputs": [],
   "source": [
    "def start():\n",
    "    \n",
    "    global notreachedend\n",
    "    global Tick\n",
    "    while(notreachedend):\n",
    "        global to_be_added2seedingpath\n",
    "        to_be_added2seedingpath = []\n",
    "        global seedingpath\n",
    "\n",
    "        if len(seedingpath) == 0:\n",
    "            notreachedend = False\n",
    "        templist4iteration = seedingpath.copy()\n",
    "        for path in templist4iteration:\n",
    "            # py(path.tick)\n",
    "            if path.tick == 0:\n",
    "                # pg(seedingpath)\n",
    "                # pdb.set_trace()\n",
    "                createpath(path)\n",
    "                loopforthezeros(path)  \n",
    "                # pdb.set_trace()#\n",
    "\n",
    "                path.status=\"DONE Seeding\"\n",
    "                DONEseedingpath.append(path)\n",
    "                seedingpath.remove(path)\n",
    "                \n",
    "                # pdb.set_trace()#\n",
    "                # pm(f'Before adding adj adj:{path.path2startadjacent}')\n",
    "                path.addadjacentcellasNOGO(gridsize) # a method to add the neighboring cells in the path to avoid looking for a path that is not neccesory\n",
    "                # pm(f'After adding adj adj:{path.path2startadjacent}')\n",
    "            else:\n",
    "                path.tick-=1\n",
    "                Tick += 1\n",
    "            if notreachedend == False:\n",
    "                break\n",
    "        seedingpath = seedingpath + to_be_added2seedingpath\n",
    "    \n",
    "start()"
   ]
  },
  {
   "cell_type": "code",
   "execution_count": null,
   "metadata": {},
   "outputs": [],
   "source": []
  },
  {
   "cell_type": "code",
   "execution_count": null,
   "metadata": {},
   "outputs": [],
   "source": []
  }
 ],
 "metadata": {
  "kernelspec": {
   "display_name": "Python 3",
   "language": "python",
   "name": "python3"
  },
  "language_info": {
   "codemirror_mode": {
    "name": "ipython",
    "version": 3
   },
   "file_extension": ".py",
   "mimetype": "text/x-python",
   "name": "python",
   "nbconvert_exporter": "python",
   "pygments_lexer": "ipython3",
   "version": "3.8.5"
  }
 },
 "nbformat": 4,
 "nbformat_minor": 2
}
