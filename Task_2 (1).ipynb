{
  "nbformat": 4,
  "nbformat_minor": 0,
  "metadata": {
    "kernelspec": {
      "display_name": "Python 3",
      "language": "python",
      "name": "python3"
    },
    "language_info": {
      "codemirror_mode": {
        "name": "ipython",
        "version": 3
      },
      "file_extension": ".py",
      "mimetype": "text/x-python",
      "name": "python",
      "nbconvert_exporter": "python",
      "pygments_lexer": "ipython3",
      "version": "3.8.5"
    },
    "colab": {
      "name": "Task 2.ipynb",
      "provenance": [],
      "collapsed_sections": [
        "a4CC8aYlPeFk"
      ]
    }
  },
  "cells": [
    {
      "cell_type": "markdown",
      "metadata": {
        "id": "BEi5wFOOPeFY"
      },
      "source": [
        "|Code Symbol | Definition | Dimensions\n",
        "| :-: | :-: | :-: |\n",
        "|X|Input Data, each row in an example| (num_Samples, inputLayerSize)|\n",
        "|y |target data|(num_Samples, outputLayerSize)|\n",
        "|w | weights | (inputLayerSize, hiddenLayerSize) |\n",
        "|b | biases | (inputLayerSize, inputLayerSize) |\n",
        "|structure | ANN structure | (outputLayerSize, hiddenLayers...,inputLayerSize ) |\n",
        "|activfunc | Used Activation functions | (num_layers) |\n",
        "|outputfunc | Output Layer activation | (num_Samples, outputLayerSize) |\n",
        "|differ_b | ∇biases in each iter | (num_nodes, 1) |\n",
        "|differ_w | ∇weight in each iter | (prevlayerSize, weightsSize) |stopcrit_acc| A threshold to stop iteratoin | (float)\n",
        "|stopcrit_acc |  A threshold to stop iteratoin | (float)\n"
      ]
    },
    {
      "cell_type": "markdown",
      "metadata": {
        "id": "YiCsdE53PeFg"
      },
      "source": [
        "## Importing Libraries"
      ]
    },
    {
      "cell_type": "code",
      "metadata": {
        "colab": {
          "base_uri": "https://localhost:8080/",
          "height": 0
        },
        "id": "10JxCDN-m6DS",
        "outputId": "f403e42b-c6b5-42b9-952e-036e8e926907"
      },
      "source": [
        "from google.colab import drive\n",
        "drive.mount('/content/drive')"
      ],
      "execution_count": 47,
      "outputs": [
        {
          "output_type": "stream",
          "text": [
            "Drive already mounted at /content/drive; to attempt to forcibly remount, call drive.mount(\"/content/drive\", force_remount=True).\n"
          ],
          "name": "stdout"
        }
      ]
    },
    {
      "cell_type": "code",
      "metadata": {
        "colab": {
          "base_uri": "https://localhost:8080/"
        },
        "id": "xFQZXBEcSScW",
        "outputId": "5b04af72-fed4-43bf-9d2e-bb3afd78f45e"
      },
      "source": [
        "!pip install colorama"
      ],
      "execution_count": 2,
      "outputs": [
        {
          "output_type": "stream",
          "text": [
            "Collecting colorama\n",
            "  Downloading https://files.pythonhosted.org/packages/44/98/5b86278fbbf250d239ae0ecb724f8572af1c91f4a11edf4d36a206189440/colorama-0.4.4-py2.py3-none-any.whl\n",
            "Installing collected packages: colorama\n",
            "Successfully installed colorama-0.4.4\n"
          ],
          "name": "stdout"
        }
      ]
    },
    {
      "cell_type": "code",
      "metadata": {
        "colab": {
          "base_uri": "https://localhost:8080/"
        },
        "id": "utwszuxHnbC0",
        "outputId": "dcf2ef47-da6c-43bf-9712-447d036fa82c"
      },
      "source": [
        "from rutaul import pb,py,pg,pr"
      ],
      "execution_count": 5,
      "outputs": [
        {
          "output_type": "stream",
          "text": [
            "\u001b[42m\n",
            "\u001b[0m\n",
            "\u001b[92m........... 🆂  🆃  🅰   🆁  🆃 ...........\n",
            "\u001b[0m"
          ],
          "name": "stdout"
        }
      ]
    },
    {
      "cell_type": "code",
      "metadata": {
        "id": "9ssusRGbPeFh"
      },
      "source": [
        "from keras.datasets import mnist # It used to take the data from it \n",
        "import matplotlib.pyplot as plt\n",
        "import numpy as np\n",
        "import sys\n",
        "sys.path.insert(1, 'D:\\AAlearnAA\\Study\\python')\n",
        "import pdb\n",
        "from sympy import Matrix, init_printing\n",
        "init_printing()\n",
        "import random\n",
        "np.set_printoptions(precision=2)\n",
        "\n"
      ],
      "execution_count": 6,
      "outputs": []
    },
    {
      "cell_type": "markdown",
      "metadata": {
        "id": "SOB3ydD_PeFi"
      },
      "source": [
        "## Loading and Printing some Samples "
      ]
    },
    {
      "cell_type": "code",
      "metadata": {
        "colab": {
          "base_uri": "https://localhost:8080/",
          "height": 302
        },
        "id": "mJN-e4r8PeFi",
        "outputId": "989b8fe1-231b-4753-e167-6386771b4db5"
      },
      "source": [
        "(train_X, train_y), (test_X, test_y) = mnist.load_data()\n",
        "for i in range(9):  \n",
        "    plt.subplot(331 + i)\n",
        "    plt.imshow(train_X[i], cmap=plt.get_cmap('gray'))\n",
        "plt.show()\n"
      ],
      "execution_count": 7,
      "outputs": [
        {
          "output_type": "stream",
          "text": [
            "Downloading data from https://storage.googleapis.com/tensorflow/tf-keras-datasets/mnist.npz\n",
            "11493376/11490434 [==============================] - 0s 0us/step\n"
          ],
          "name": "stdout"
        },
        {
          "output_type": "display_data",
          "data": {
            "image/png": "[encoded data removed]",
            "text/plain": [
              "<Figure size 432x288 with 9 Axes>"
            ]
          },
          "metadata": {
            "tags": [],
            "needs_background": "light"
          }
        }
      ]
    },
    {
      "cell_type": "markdown",
      "metadata": {
        "id": "a4CC8aYlPeFk"
      },
      "source": [
        "## $ Cost Function for Softmax: $ <center> C = $-\\frac{1}{n}$$\\sum\\limits_{i=1}^{n}$$[y_i\\log(\\hat{y_i})+(1-{y_i})\\log(1-\\hat{y_i})]$ </center>"
      ]
    },
    {
      "cell_type": "markdown",
      "metadata": {
        "id": "4NGPFfUtPeFk"
      },
      "source": [
        "## Flatten and normilizing the matrix"
      ]
    },
    {
      "cell_type": "code",
      "metadata": {
        "id": "HmwrtJ8oPeFk"
      },
      "source": [
        "def hot_one_converter(number,classificatoin_count=10):\n",
        "    \"\"\" Takes a number and return a hot one array\n",
        "    Hot one array: is an array of zeros and single one\n",
        "\n",
        "    Args:\n",
        "        number (int): number to be converted to array the number will represented as the only one in the array\n",
        "        classificatoin_count (int, optional): Size of the array. Defaults to 10.\n",
        "    \"\"\"\n",
        "    hot_one = np.zeros((classificatoin_count,1))\n",
        "    #if number > -1 and number < classificatoin_count:\n",
        "    hot_one[number] = 1\n",
        "    return hot_one\n",
        "def flatten_normalize_matrix(matrix):\n",
        "    \"\"\"It takes a matrix and return a matrix with one dimension and it normilize the elements to a value between 1 and 0\n",
        "        * It does not handle negative value well    \n",
        "\n",
        "    Args:\n",
        "        matrix (ndarray): array to be normilized and flatten\n",
        "\n",
        "    Returns:\n",
        "        Array: one dimension array elements between 0 and 1\n",
        "    \"\"\"\n",
        "    return np.reshape( matrix.flatten() /np.max(matrix) , (-1,1))\n",
        "\n",
        "train_yv = [ hot_one_converter(res) for res in train_y]\n",
        "train_Xv = [ flatten_normalize_matrix(res)  for res in train_X]\n",
        "\n",
        "test_yv = [hot_one_converter(res) for res in test_y]\n",
        "test_Xv = [flatten_normalize_matrix(res)for res in test_X]\n"
      ],
      "execution_count": 8,
      "outputs": []
    },
    {
      "cell_type": "markdown",
      "metadata": {
        "id": "LOVs-4OvPeFl"
      },
      "source": [
        "# Creating the neural netword main class \n",
        "\n",
        "#### $$     Z_l(x) = ( w_{1} a_{1} + w_{2} a_{2} ... + w_{n} a_{n} ) + b   $$\n",
        "#### $$ sigmoid =  \\sigma(Z_l(x)) =  \\frac{1}{1 +  e^{-x} } $$ \n",
        "#### $$    Softmax = \\frac{\\sigma(Z_l(x)) }{\\sum_j \\sigma(Z_l(x))        }        $$ \n",
        "\n"
      ]
    },
    {
      "cell_type": "code",
      "metadata": {
        "id": "ydNsat5EPeFl"
      },
      "source": [
        "class class_actifunc: \n",
        "    def __init__(self):\n",
        "        self.flist  = {'sigmoid' : {'func': self.sigmoid,\n",
        "                                   'dfunc': self.de_sigmoid\n",
        "                                    },\n",
        "                       'ReLU' : {'func': self.ReLU,\n",
        "                                   'dfunc': self.de_ReLU\n",
        "                                    },\n",
        "                       'LeakyReLU': {'func': self.LeakyReLU,\n",
        "                                   'dfunc': self.de_LeakyReLU\n",
        "                                    },\n",
        "                       'Tanh': {'func': self.tanh,\n",
        "                                   'dfunc': self.de_tanh\n",
        "                                    },\n",
        "                       'ELU': {'func': self.ELU,\n",
        "                                   'dfunc': self.de_ELU\n",
        "                                    },\n",
        "                       'softmax': {'func': self.softmax,\n",
        "                                   'dfunc': self.de_softmax\n",
        "                                    },\n",
        "                       'MSE'    :  self.cost_derivative,\n",
        "                       'c_entropy':  self.crossentropy,\n",
        "                       'AMSE':  self.cost_abs,\n",
        "                       \n",
        "                   }\n",
        "    # ----------------------- sofrmax --------------------------------\n",
        "    def de_softmax(self,z,y_target):\n",
        "      \"\"\" Derivative Softmax of vector function.\"\"\"\n",
        "      # pr(z.shape)\n",
        "      jac = np.diagflat(z)\n",
        "      \n",
        "      for i in range(len(jac)):\n",
        "          for j in range(len(jac)):\n",
        "              if i == j:\n",
        "                jac[i][j] = float(z[i] * (1-z[i]))\n",
        "              else: \n",
        "                jac[i][j] = -z[i]*z[j]\n",
        "      p = np.reshape(jac[np.argmax(y_target)],(-1,1))\n",
        "      return p\n",
        "          \n",
        "    @staticmethod\n",
        "    def softmax(z):\n",
        "        \"\"\" Softmax of vector function.\"\"\"\n",
        "        exp=np.exp(z-np.max(z)) # to avoid reaching NaN in case one of the value is zero \"it does not effect the outcome\n",
        "        s = np.sum(exp)\n",
        "        # py('z\\n', z)\n",
        "        # pb('for  \\n',exp/s)\n",
        "        return exp/s \n",
        "    # ----------------------- LeakyReLU --------------------------------     \n",
        "    def de_LeakyReLU(self,z,_=0,alpha =.1):\n",
        "        \"\"\"Derivative of Leaky ReLU function.\"\"\"\n",
        "        return np.where(z > 0, 1.0, alpha)  \n",
        "    @staticmethod\n",
        "    def LeakyReLU(z,alpha =.1):\n",
        "        \"\"\"The Leaky ReLU function.\"\"\"\n",
        "        return np.maximum(alpha * z, z)        \n",
        "    # ----------------------- ELU --------------------------------\n",
        "    def de_ELU(self,z,_=0,alpha =.1):\n",
        "        \"\"\"Derivative of Leaky ReLU function.\"\"\"\n",
        "        return 1 if z > 0 else alpha*np.exp(z)\n",
        "    @staticmethod\n",
        "    def ELU(z,alpha =.1):\n",
        "        \"\"\"The Leaky ReLU function.\"\"\"\n",
        "        return z if z >= 0 else alpha*(e^z -1)\n",
        "    # ----------------------- sigmoid --------------------------------\n",
        "    def de_sigmoid(self,z,_=0):\n",
        "        \"\"\" Derivative of the sigmoid function.\"\"\"\n",
        "        return self.sigmoid(z)*(1-self.sigmoid(z))   \n",
        "    @staticmethod\n",
        "    def sigmoid(z):\n",
        "        \"\"\" sigmoid function.\"\"\"\n",
        "        # print(z)\n",
        "        \n",
        "        return 1.0/(1.0+np.exp(-z))\n",
        "    # ----------------------- tanh --------------------------------\n",
        "    def de_tanh(self,z,_=0):\n",
        "        \"\"\"Derivative of the Tanh function.\"\"\"\n",
        "        return 1 - np.power(self.tanh(z), 2)\n",
        "    @staticmethod\n",
        "    def tanh(z):\n",
        "        \"\"\"The Tanh function.\"\"\"\n",
        "        return (np.exp(z) - np.exp(-z)) / (np.exp(z) + np.exp(-z))\n",
        "    # ----------------------- ReLU --------------------------------\n",
        "    def de_ReLU(self,z,_=0):\n",
        "        \"\"\"Derivative of the ReLU function.\"\"\"\n",
        "        # pg(z)\n",
        "\n",
        "        zz =[ .001 if x < 0 else 0 for x in z ]\n",
        "        z[z<=0] = 0\n",
        "        z[z>0] = .01\n",
        "        # py('zz',zz)\n",
        "        # pb('derelu', z )\n",
        "        return z\n",
        "    @staticmethod\n",
        "    def ReLU(z):\n",
        "        \"\"\"The ReLU function.\"\"\"\n",
        "        # py('z',z)\n",
        "        # pg('relu\\n', np.maximum(0, z) )\n",
        "\n",
        "        return np.maximum(0, z) \n",
        "#         return z * (z > 0)\n",
        "\n",
        "    # ----------------------- Cost Functions  --------------------------------\n",
        "\n",
        "    def cost_derivative(self, layer_output, y_target):\n",
        "        \"\"\"Return the vector of partial derivatives \\partial C_x /\n",
        "        \\partial a for the output activations.\"\"\"\n",
        "        return (layer_output-y_target)\n",
        "\n",
        "    def cost_abs(self, layer_output, y_target):\n",
        "        \"\"\"Return the vector of partial derivatives \\partial C_x /\n",
        "        \\partial a for the output activations.\"\"\"\n",
        "        return np.abs(layer_output-y_target)\n",
        "    \n",
        "    def crossentropy(self,  y_hat,y_target):\n",
        "        c1 = -y_target * (np.log(y_hat + 1e-8))\n",
        "        c2 = (1.-y_target)*np.log(1.-y_hat + 1e-8)\n",
        "        cost = np.sum(c1-c2) \n",
        "        return cost\n",
        "    \n",
        "\n",
        "actf = class_actifunc()    \n",
        "\n",
        "\n",
        "#['func'](7)\n",
        "\n",
        "# act.fun['sigmoid']['defunc'](3)#['func'](7)\n",
        "# activationfunc.sigmoid['func']\n",
        "\n"
      ],
      "execution_count": 9,
      "outputs": []
    },
    {
      "cell_type": "markdown",
      "metadata": {
        "id": "a548jXktPeFm"
      },
      "source": [
        "# Neural network class"
      ]
    },
    {
      "cell_type": "code",
      "metadata": {
        "colab": {
          "base_uri": "https://localhost:8080/"
        },
        "id": "Qv8YBajfVuzG",
        "outputId": "1703b158-e23b-4339-dbd7-539ab0e7dfa0"
      },
      "source": [
        "nettest =network([784, 8,10],['sigmoid'],outputfunc='softmax', stopcrit_acc = .005,costfunc='MSE')\n",
        "\n",
        "nettest.SGD(zip(train_Xv,train_yv),200, 10, .4 ,test_data=zip(test_Xv,test_yv))\n",
        "\n"
      ],
      "execution_count": 16,
      "outputs": [
        {
          "output_type": "stream",
          "text": [
            "pass stop criterion test\n",
            "Iter No: 0 ==> Correct answers: 7525 out of 10000 Acc:0.7525\n",
            "pass stop criterion test\n",
            "Iter No: 1 ==> Correct answers: 8434 out of 10000 Acc:0.8434\n",
            "pass stop criterion test\n",
            "Iter No: 2 ==> Correct answers: 8639 out of 10000 Acc:0.8639\n",
            "pass stop criterion test\n",
            "Iter No: 3 ==> Correct answers: 8747 out of 10000 Acc:0.8747\n",
            "pass stop criterion test\n",
            "Iter No: 4 ==> Correct answers: 8820 out of 10000 Acc:0.882\n",
            "Iter No: 5 ==> Correct answers: 8867 out of 10000 Acc:0.8867\n",
            "stop criterion difference in accuracy is smaller than value giving stopcrit_acc:  0.005\n"
          ],
          "name": "stdout"
        }
      ]
    },
    {
      "cell_type": "code",
      "metadata": {
        "colab": {
          "base_uri": "https://localhost:8080/"
        },
        "id": "K2Hj2TVxzQrJ",
        "outputId": "8a1148c6-4a2a-40ad-a45a-6bc42e06ee21"
      },
      "source": [
        "nettest.activfunc"
      ],
      "execution_count": 19,
      "outputs": [
        {
          "output_type": "execute_result",
          "data": {
            "text/plain": [
              "['sigmoid', 'sigmoid', 'softmax']"
            ]
          },
          "metadata": {
            "tags": []
          },
          "execution_count": 19
        }
      ]
    },
    {
      "cell_type": "code",
      "metadata": {
        "id": "SoW3SAJdPeFn"
      },
      "source": [
        "class network:\n",
        "    \"\"\"\n",
        "    Neural network class that creats a network with fixed size and has forword, backword methods \n",
        "    to adjust the weights and biases\n",
        "    \"\"\"\n",
        "    def __init__(self, structure:list,activfunc=['sigmoid'],outputfunc='softmax',stopcrit_acc = .0001,costfunc='MSE',**kargs):\n",
        "        \"\"\"Intiating the network and creating weights and biases randomly \n",
        "         unless a set by **kargs where the __dict__ will be updated \n",
        "\n",
        "        Args:\n",
        "             stopcrit_acc (float): The threshold where iteration will stop that is the different in accuracy between \n",
        "                                 last epoch and the current one\n",
        "             structure (list): List of integer describing the layers neurons count\n",
        "                                e.g. [3,4,4,2] \n",
        "             activfunc (list): List of activation function for each layer. ** It has a length of \n",
        "                                 n-2 as the output has outputfunc variable or length one and \n",
        "             outputfunc (activfun method): The output layer function e.g softmax\n",
        "             costfunc   (costfunc method): The cost function\n",
        "        \"\"\"\n",
        "        self.cost_tracker = []\n",
        "        self.lambda_accuracy_stopcriterion = stopcrit_acc\n",
        "        self.structure = structure\n",
        "        self.cost = actf.flist[costfunc]\n",
        "        self.activfunc = activfunc\n",
        "        self.outputfunc = outputfunc\n",
        "        # Creating normal random number around zero the \n",
        "        self.b = [np.random.randn(x, 1) for x in structure[1:]] # Biases \n",
        "        self.w = [np.random.randn(x2, x1) for x1, x2 in zip(structure[:-1], structure[1:])] # Weights\n",
        "        \n",
        "    \n",
        "        if len(activfunc) ==1:\n",
        "            self.activfunc = [activfunc[0]] * (len(structure)-1) \n",
        "        else :\n",
        "           self.activfunc = activfunc\n",
        "\n",
        "        self.__dict__.update(kargs)\n",
        "\n",
        "        \n",
        "        self.printonce= True\n",
        "#         pdb.set_trace()\n",
        "\n",
        "    def forward(self, inp):\n",
        "        func = class_actifunc()\n",
        "\n",
        "        i = 1 # a varible to apply the soft max function if it was giving \n",
        "        number_layers = len(self.structure)\n",
        "        for f, b, w in zip(self.activfunc, self.b, self.w):\n",
        "          i+=1\n",
        "          if i == number_layers: # to examined if the last layer is reached\n",
        "\n",
        "            if self.outputfunc: # if the activation function is provided\n",
        "              inp = func.flist[self.outputfunc]['func'](np.dot(w, inp)+b) \n",
        "            else:\n",
        "              inp = func.flist[f]['func'](np.dot(w, inp)+b)\n",
        "          \n",
        "          else:\n",
        "            inp = func.flist[f]['func'](np.dot(w, inp)+b) #  sigmoid(np.dot(w, data)+b)\n",
        "#             pdb.set_trace()\n",
        "        return inp\n",
        "    \n",
        "    \n",
        "\n",
        "    def SGD(self, training_data, epochs, mini_batch_size, lr,\n",
        "            test_data=None):\n",
        "        self.epochs = epochs\n",
        "        self.lr = lr\n",
        "        training_data = list(training_data)\n",
        "        n = len(training_data)\n",
        "\n",
        "        if test_data:\n",
        "            test_data = list(test_data)\n",
        "            n_test = len(test_data)\n",
        "        \n",
        "        previousacc = 0\n",
        "        nettest.cost_tracker.append(previousacc)\n",
        "        stop_epoch =False # this boolean is for stop criterion\n",
        "        for i in range(epochs):\n",
        "#             global stop_epoch\n",
        "            random.shuffle(training_data)\n",
        "            mini_batches = [\n",
        "                training_data[k:k+mini_batch_size]\n",
        "                for k in range(0, n, mini_batch_size)]\n",
        "            for mini_batch in mini_batches:\n",
        "                self.update_mini_batch(mini_batch, lr)\n",
        "                \n",
        "                \n",
        "           \n",
        "            current_accuracy =  self.evaluate(test_data)/n_test\n",
        "            stop_epoch = self.stop_criterion(previousacc,current_accuracy)\n",
        "            previousacc = current_accuracy\n",
        "            self.cost_tracker.append(previousacc)\n",
        "\n",
        "            print(f\"Iter No: {i} ==> Correct answers: {self.evaluate(test_data)} out of {n_test} Acc:{current_accuracy}\");\n",
        "      \n",
        "            if stop_epoch:\n",
        "                print('stop criterion difference in accuracy is smaller than value giving stopcrit_acc: ', self.lambda_accuracy_stopcriterion)\n",
        "                break\n",
        "                \n",
        "    def stop_criterion(self,previousAccuracy,currentAccuracy):\n",
        "        \"\"\" Check how much the current accuracy is different from the previous epoch accuracy and \n",
        "            return boolean value to determine whether to move forword or stop iteration\n",
        "        \"\"\"\n",
        "        diff = currentAccuracy - previousAccuracy\n",
        "        if diff < np.absolute(self.lambda_accuracy_stopcriterion):\n",
        "            return True\n",
        "        print('pass stop criterion test')\n",
        "        return False\n",
        "        \n",
        "        \n",
        "    def update_mini_batch(self, mini_batch, lr):\n",
        "        # ------------ creating empty array -------------------\n",
        "        differ_b = [np.zeros(b.shape) for b in self.b]\n",
        "        differ_w = [np.zeros(w.shape) for w in self.w]\n",
        "        # ------------------- Calling backprop ----------------\n",
        "        for x, y in mini_batch:\n",
        "            total_differ_b, total_differ_w = self.backprop(x, y)\n",
        "            differ_b = [delta + dffb for delta, dffb in zip(differ_b, total_differ_b)]\n",
        "            differ_w = [delta + dffw for delta, dffw in zip(differ_w, total_differ_w)]\n",
        "        # --------------- updating the value -------------------\n",
        "        self.w = [w - (lr/len(mini_batch)) * dw for w, dw in zip(self.w, differ_w)]\n",
        "        self.b = [b - (lr/len(mini_batch)) * db for b, db in zip(self.b, differ_b)]\n",
        "\n",
        "\n",
        "\n",
        "    def backprop(self, x, y):\n",
        "        func = class_actifunc()\n",
        "        \n",
        "        differ_b = [np.zeros(b.shape) for b in self.b]\n",
        "        differ_w = [np.zeros(w.shape) for w in self.w]\n",
        "        # -----------------------------------  Feedforward ------------------------------------\n",
        "        a_layer_output = x\n",
        "        \n",
        "        layer_output = [x] # list to store all the layer_output, layer by layer\n",
        "        zs = [] # list to store all the z vectors, layer by layer\n",
        "        for b, w in zip(self.b, self.w):\n",
        "            z = np.dot(w, layer_output[-1]) + b\n",
        "            zs.append(z)\n",
        "\n",
        "            a_layer_output = func.flist[self.activfunc[-1]]['func'](z)\n",
        "\n",
        "            layer_output.append(a_layer_output)\n",
        "            \n",
        "         # =============================== END Feedforward END ============================\n",
        "        \n",
        "\n",
        "        # ------------------------    Backward Pass Output Layer     ----------------------\n",
        "        differ = self.cost(layer_output[-1], y) * func.flist[self.activfunc[-1]]['dfunc'](zs[-1], y)\n",
        "        differ_b[-1] = differ\n",
        "        differ_w[-1] = np.dot(differ, layer_output[-2].transpose())\n",
        "        \n",
        "        # =====================  END  Backward Pass Output Layer END   ====================\n",
        "\n",
        "        \n",
        "        # ---------------------------       Backward Pass         -------------------------\n",
        "\n",
        "        for lyr in range(2, len(self.structure)):\n",
        "            z = zs[-lyr]\n",
        "            sp = func.flist[self.activfunc[-lyr]]['dfunc'](z, y)\n",
        "            differ = np.dot(self.w[-lyr+1].transpose(), differ) * sp\n",
        "            differ_b[-lyr] = differ\n",
        "            differ_w[-lyr] = np.dot(differ, layer_output[-lyr-1].transpose())\n",
        "       # =====================  END  Backward Pass Output Layer END   ====================\n",
        "        return (differ_b, differ_w)\n",
        "\n",
        "    def evaluate(self, test_data):\n",
        "      test_results = [(np.argmax(self.forward(x)), np.argmax(y)) for (x, y) in test_data]\n",
        "      return  sum( [1  if x == y else 0 for (x, y) in test_results ])\n"
      ],
      "execution_count": 13,
      "outputs": []
    },
    {
      "cell_type": "markdown",
      "metadata": {
        "id": "s5b8yExXPeFq"
      },
      "source": [
        "# Trying the neural network with 784 input layer, 2 hidden layers with 16 nodes each, and 10 output nodes\n",
        "The activation function used is the sigmiod function for all layers and no softmax function\n"
      ]
    },
    {
      "cell_type": "code",
      "metadata": {
        "id": "33BFP4joPeFl",
        "colab": {
          "base_uri": "https://localhost:8080/"
        },
        "outputId": "be001bcb-fc47-408d-a6f8-2998ea3fb698"
      },
      "source": [
        "netteet = network([784,16,16, 10],['sigmoid'], stopcrit_acc = .00001,outputfunc='softmax',costfunc='MSE')\r\n",
        "nettest.SGD(zip(train_Xv,train_yv),20, 20, .3,test_data=zip(test_Xv,test_y))\r\n"
      ],
      "execution_count": 232,
      "outputs": [
        {
          "output_type": "stream",
          "text": [
            "pass stop criterion test\n",
            "Epoch 0 : 9439 / 10000 Acc:0.9439\n",
            "Epoch 1 : 9441 / 10000 Acc:0.9441\n",
            "stop criterion difference in accuracy is smaller than value giving stopcrit_acc:  0.0005\n"
          ],
          "name": "stdout"
        }
      ]
    },
    {
      "cell_type": "code",
      "metadata": {
        "colab": {
          "base_uri": "https://localhost:8080/"
        },
        "id": "MYmtLWjCfKK-",
        "outputId": "942e991b-bee9-40f5-f200-ed57870f0192"
      },
      "source": [
        "nettest =network([784, 16,8,10],['sigmoid'],outputfunc='softmax', stopcrit_acc = .005,costfunc='MSE')\n",
        "\n",
        "nettest.SGD(zip(train_Xv,train_yv),200, 10, .4 ,test_data=zip(test_Xv,test_yv))\n",
        "\n"
      ],
      "execution_count": 17,
      "outputs": [
        {
          "output_type": "stream",
          "text": [
            "pass stop criterion test\n",
            "Iter No: 0 ==> Correct answers: 6621 out of 10000 Acc:0.6621\n",
            "pass stop criterion test\n",
            "Iter No: 1 ==> Correct answers: 8210 out of 10000 Acc:0.821\n",
            "pass stop criterion test\n",
            "Iter No: 2 ==> Correct answers: 8708 out of 10000 Acc:0.8708\n",
            "pass stop criterion test\n",
            "Iter No: 3 ==> Correct answers: 8864 out of 10000 Acc:0.8864\n",
            "pass stop criterion test\n",
            "Iter No: 4 ==> Correct answers: 8925 out of 10000 Acc:0.8925\n",
            "pass stop criterion test\n",
            "Iter No: 5 ==> Correct answers: 8982 out of 10000 Acc:0.8982\n",
            "pass stop criterion test\n",
            "Iter No: 6 ==> Correct answers: 9047 out of 10000 Acc:0.9047\n",
            "Iter No: 7 ==> Correct answers: 9069 out of 10000 Acc:0.9069\n",
            "stop criterion difference in accuracy is smaller than value giving stopcrit_acc:  0.005\n"
          ],
          "name": "stdout"
        }
      ]
    },
    {
      "cell_type": "code",
      "metadata": {
        "colab": {
          "base_uri": "https://localhost:8080/"
        },
        "id": "7Am2TvzQPeFr",
        "outputId": "5967cbcc-0ae6-4ca0-9781-9bb04450378f"
      },
      "source": [
        "best_iteration =network([784,25,16, 10],['sigmoid'], stopcrit_acc = .0005,outputfunc=False,costfunc='MSE')\n",
        "\n",
        "nettest.SGD(zip(train_Xv,train_yv),200, 10, .3,test_data=zip(test_Xv,test_yv))\n"
      ],
      "execution_count": 33,
      "outputs": [
        {
          "output_type": "stream",
          "text": [
            "pass stop criterion test\n",
            "Iter No: 0 ==> Correct answers: 7163 out of 10000 Acc:0.7163\n",
            "pass stop criterion test\n",
            "Iter No: 1 ==> Correct answers: 8437 out of 10000 Acc:0.8437\n",
            "pass stop criterion test\n",
            "Iter No: 2 ==> Correct answers: 8750 out of 10000 Acc:0.875\n",
            "pass stop criterion test\n",
            "Iter No: 3 ==> Correct answers: 8875 out of 10000 Acc:0.8875\n",
            "pass stop criterion test\n",
            "Iter No: 4 ==> Correct answers: 8972 out of 10000 Acc:0.8972\n",
            "pass stop criterion test\n",
            "Iter No: 5 ==> Correct answers: 9019 out of 10000 Acc:0.9019\n",
            "pass stop criterion test\n",
            "Iter No: 6 ==> Correct answers: 9082 out of 10000 Acc:0.9082\n",
            "pass stop criterion test\n",
            "Iter No: 7 ==> Correct answers: 9124 out of 10000 Acc:0.9124\n",
            "pass stop criterion test\n",
            "Iter No: 8 ==> Correct answers: 9146 out of 10000 Acc:0.9146\n",
            "pass stop criterion test\n",
            "Iter No: 9 ==> Correct answers: 9162 out of 10000 Acc:0.9162\n",
            "pass stop criterion test\n",
            "Iter No: 10 ==> Correct answers: 9179 out of 10000 Acc:0.9179\n",
            "pass stop criterion test\n",
            "Iter No: 11 ==> Correct answers: 9209 out of 10000 Acc:0.9209\n",
            "Iter No: 12 ==> Correct answers: 9210 out of 10000 Acc:0.921\n",
            "stop criterion difference in accuracy is smaller than value giving stopcrit_acc:  0.0005\n"
          ],
          "name": "stdout"
        }
      ]
    },
    {
      "cell_type": "code",
      "metadata": {
        "id": "j5auWtS4d6li"
      },
      "source": [
        ""
      ],
      "execution_count": 34,
      "outputs": []
    },
    {
      "cell_type": "markdown",
      "metadata": {
        "id": "3m2iORj9j2Ez"
      },
      "source": [
        "# Let us try different structure ( 784,10,16,10 ) and let see its effect on the learning process \r\n",
        "\r\n",
        "It is absorvable that changing the structure changes the outcome but it will not allow for huge different in the result unless different technique is applied such edge filtering layer"
      ]
    },
    {
      "cell_type": "code",
      "metadata": {
        "colab": {
          "base_uri": "https://localhost:8080/"
        },
        "id": "mKo09y5IQlW-",
        "outputId": "eecc2f23-2d74-443e-c7e4-8e55d6584bd6"
      },
      "source": [
        "nettest =network([784,10,16, 10],['sigmoid'], stopcrit_acc = .0005,outputfunc=False,costfunc='MSE')\r\n",
        "nettest.SGD(zip(train_Xv,train_yv),200, 10, .03,test_data=zip(test_Xv,test_y))\r\n"
      ],
      "execution_count": 249,
      "outputs": [
        {
          "output_type": "stream",
          "text": [
            "pass stop criterion test\n",
            "Iter No: 0 Correct 8634 out of 10000 Acc:0.8634\n",
            "pass stop criterion test\n",
            "Iter No: 1 Correct 8863 out of 10000 Acc:0.8863\n",
            "pass stop criterion test\n",
            "Iter No: 2 Correct 8987 out of 10000 Acc:0.8987\n",
            "pass stop criterion test\n",
            "Iter No: 3 Correct 9048 out of 10000 Acc:0.9048\n",
            "pass stop criterion test\n",
            "Iter No: 4 Correct 9124 out of 10000 Acc:0.9124\n",
            "Iter No: 5 Correct 9068 out of 10000 Acc:0.9068\n",
            "stop criterion difference in accuracy is smaller than value giving stopcrit_acc:  0.0005\n"
          ],
          "name": "stdout"
        }
      ]
    },
    {
      "cell_type": "markdown",
      "metadata": {
        "id": "10kOBYtFkufr"
      },
      "source": [
        "Trying ReLU activation function instead of sigmoid one while not changing the other hyperparameter"
      ]
    },
    {
      "cell_type": "markdown",
      "metadata": {
        "id": "8RNcoPiiktsI"
      },
      "source": [
        ""
      ]
    },
    {
      "cell_type": "markdown",
      "metadata": {
        "id": "LzEnhXpxlViV"
      },
      "source": [
        ""
      ]
    },
    {
      "cell_type": "code",
      "metadata": {
        "id": "slT21RoBlUk0"
      },
      "source": [
        "vc"
      ],
      "execution_count": null,
      "outputs": []
    },
    {
      "cell_type": "code",
      "metadata": {
        "colab": {
          "base_uri": "https://localhost:8080/",
          "height": 809
        },
        "id": "qt-CXeX8PeFs",
        "outputId": "35b49889-b90e-4db5-9a0b-dfbde7fcae7a"
      },
      "source": [
        "plt.style.use('dark_background')\n",
        "plt.figure(figsize=(14,14))\n",
        "plt.plot(range(len(best_iteration.cost_tracker)),best_iteration.cost_tracker,'b-')\n",
        "plt.style.use('dark_background')\n",
        "# plt.plot([0,nettest.i],[nettest.cost_tracker[-1],nettest.cost_tracker[-1]],'b--')\n",
        "plt.show()"
      ],
      "execution_count": 35,
      "outputs": [
        {
          "output_type": "display_data",
          "data": {
            "image/png": "[encoded data removed]",
            "text/plain": [
              "<Figure size 1008x1008 with 1 Axes>"
            ]
          },
          "metadata": {
            "tags": []
          }
        }
      ]
    },
    {
      "cell_type": "code",
      "metadata": {
        "id": "G3JbKOl_mg8t"
      },
      "source": [
        "## Let us try with same structure a ReLU function \r\n",
        "#### the result is good but not as the sigmoid function "
      ],
      "execution_count": 43,
      "outputs": []
    },
    {
      "cell_type": "code",
      "metadata": {
        "colab": {
          "base_uri": "https://localhost:8080/"
        },
        "id": "tU3QyZjmPeFs",
        "outputId": "38b65734-8c57-46ae-c31b-eea2f484fa12"
      },
      "source": [
        "nettest = network([784,10,16 10],['ReLU'], stopcrit_acc = .00001,outputfunc='softmax',costfunc='MSE')\n",
        "nettest.SGD(zip(train_Xv,train_yv),20, 10, .3,test_data=zip(test_Xv,test_yv))\n"
      ],
      "execution_count": 42,
      "outputs": [
        {
          "output_type": "stream",
          "text": [
            "pass stop criterion test\n",
            "Iter No: 0 ==> Correct answers: 5370 out of 10000 Acc:0.537\n",
            "pass stop criterion test\n",
            "Iter No: 1 ==> Correct answers: 7206 out of 10000 Acc:0.7206\n",
            "pass stop criterion test\n",
            "Iter No: 2 ==> Correct answers: 7591 out of 10000 Acc:0.7591\n",
            "pass stop criterion test\n",
            "Iter No: 3 ==> Correct answers: 8061 out of 10000 Acc:0.8061\n",
            "pass stop criterion test\n",
            "Iter No: 4 ==> Correct answers: 8135 out of 10000 Acc:0.8135\n",
            "pass stop criterion test\n",
            "Iter No: 5 ==> Correct answers: 8226 out of 10000 Acc:0.8226\n",
            "pass stop criterion test\n",
            "Iter No: 6 ==> Correct answers: 8306 out of 10000 Acc:0.8306\n",
            "pass stop criterion test\n",
            "Iter No: 7 ==> Correct answers: 8342 out of 10000 Acc:0.8342\n",
            "pass stop criterion test\n",
            "Iter No: 8 ==> Correct answers: 8374 out of 10000 Acc:0.8374\n",
            "pass stop criterion test\n",
            "Iter No: 9 ==> Correct answers: 8411 out of 10000 Acc:0.8411\n",
            "pass stop criterion test\n",
            "Iter No: 10 ==> Correct answers: 8420 out of 10000 Acc:0.842\n",
            "pass stop criterion test\n",
            "Iter No: 11 ==> Correct answers: 8451 out of 10000 Acc:0.8451\n",
            "pass stop criterion test\n",
            "Iter No: 12 ==> Correct answers: 8474 out of 10000 Acc:0.8474\n",
            "Iter No: 13 ==> Correct answers: 8462 out of 10000 Acc:0.8462\n",
            "stop criterion difference in accuracy is smaller than value giving stopcrit_acc:  1e-05\n"
          ],
          "name": "stdout"
        }
      ]
    },
    {
      "cell_type": "markdown",
      "metadata": {
        "id": "kNP0sNXqjBQO"
      },
      "source": [
        ""
      ]
    },
    {
      "cell_type": "code",
      "metadata": {
        "id": "69N95-9Wi_QL"
      },
      "source": [
        ""
      ],
      "execution_count": null,
      "outputs": []
    },
    {
      "cell_type": "markdown",
      "metadata": {
        "id": "Wk2vwmfVYNYy"
      },
      "source": [
        "# Let us print the activation function for each layer\r\n"
      ]
    },
    {
      "cell_type": "code",
      "metadata": {
        "colab": {
          "base_uri": "https://localhost:8080/",
          "height": 0
        },
        "id": "iv9btpHHoq8e",
        "outputId": "1705123e-d3a1-4fa9-e45c-6262f7153609"
      },
      "source": [
        "netteet.activfunc"
      ],
      "execution_count": 62,
      "outputs": [
        {
          "output_type": "execute_result",
          "data": {
            "text/plain": [
              "['sigmoid', 'sigmoid', 'softmax']"
            ]
          },
          "metadata": {
            "tags": []
          },
          "execution_count": 62
        }
      ]
    },
    {
      "cell_type": "markdown",
      "metadata": {
        "id": "ONNb9hFWos4p"
      },
      "source": [
        "# Let us add a method to print the confusion matrix we will add the method to the created object\r\n",
        "We will import seaborn lib to help visulize the result"
      ]
    },
    {
      "cell_type": "code",
      "metadata": {
        "id": "vMxhl5J4o8i8"
      },
      "source": [
        ""
      ],
      "execution_count": null,
      "outputs": []
    },
    {
      "cell_type": "code",
      "metadata": {
        "id": "mcAhuJG6Y6jL"
      },
      "source": [
        "from rutaul import pb , pg , pr , py\r\n",
        "import seaborn as sns\r\n",
        "import pdb\r\n"
      ],
      "execution_count": 19,
      "outputs": []
    },
    {
      "cell_type": "code",
      "metadata": {
        "colab": {
          "base_uri": "https://localhost:8080/",
          "height": 596
        },
        "id": "wIshhWkle64t",
        "outputId": "b9488bfc-d2af-4e32-b483-c7799bcc7fd9"
      },
      "source": [
        "\r\n",
        "def confusion_matrix_method(self,test_data):\r\n",
        "\r\n",
        "  test_results = [(self.forward(x), y) for (x, y) in test_data]\r\n",
        "  # pdb.set_trace(test_results[0][0])\r\n",
        "  l = len(test_results[0][0])\r\n",
        "  conf_mat = np.zeros((l,l))\r\n",
        "\r\n",
        "  # np.argmax(x)\r\n",
        "  for x, y in test_results:\r\n",
        "    col = int(np.argmax(x)) \r\n",
        "    conf_mat[y][col] +=1\r\n",
        "  plt.style.use('dark_background')\r\n",
        "  plt.figure(figsize=(16,10))\r\n",
        "  plt.xticks(fontsize=14,ticks=range(9,-1,-1),labels=['3','p','3','p','3','p','3','p','3','p'])\r\n",
        "\r\n",
        "  sns.heatmap(conf_mat.astype(int),  annot=True, annot_kws={\"size\": 14})\r\n",
        "  # plt.xticks(fontsize=14,ticks=range(9,-1,-1),labels=['3','p','3','p','3','p','3','p','3','p'])\r\n",
        "  # plt.yticks(fontsize=14)\r\n",
        "  plt.xticks(fontsize=14)\r\n",
        "  plt.show()\r\n",
        "\r\n",
        "  return conf_mat.astype(int)\r\n",
        "\r\n",
        "\r\n",
        "\r\n",
        "best_iteration.confusion_matrix_cal  = confusion_matrix_method\r\n",
        "best_iteration.confusion_matrix  = best_iteration.confusion_matrix_cal(best_iteration,zip(test_Xv,test_y))\r\n",
        "# xticklabels=[]"
      ],
      "execution_count": 47,
      "outputs": [
        {
          "output_type": "display_data",
          "data": {
            "image/png": "[encoded data removed]",
            "text/plain": [
              "<Figure size 1152x720 with 2 Axes>"
            ]
          },
          "metadata": {
            "tags": []
          }
        }
      ]
    },
    {
      "cell_type": "markdown",
      "metadata": {
        "id": "gsu_IQc3oIO7"
      },
      "source": [
        ""
      ]
    },
    {
      "cell_type": "code",
      "metadata": {
        "id": "MRez7ljRPeFs"
      },
      "source": [
        "## Let us have fun and print the percision and recall for each classfication \r\n"
      ],
      "execution_count": 45,
      "outputs": []
    },
    {
      "cell_type": "markdown",
      "metadata": {
        "id": "HPlMTO7CoIsi"
      },
      "source": [
        "## Let us have fun and print the percision and recall for each classfication \r\n"
      ]
    },
    {
      "cell_type": "markdown",
      "metadata": {
        "id": "06gvxsv9oIpJ"
      },
      "source": [
        ""
      ]
    },
    {
      "cell_type": "code",
      "metadata": {
        "colab": {
          "base_uri": "https://localhost:8080/",
          "height": 596
        },
        "id": "xYgugyRdoFWC",
        "outputId": "7673d70b-c098-43f2-fabe-e737f8859bd1"
      },
      "source": [
        "def precision_recall(mat):\r\n",
        "  precision_colsum = [ sum(col) for col in mat.T]\r\n",
        "  precall_rawsum = [ sum(raw) for raw in mat]\r\n",
        "  precesion = []\r\n",
        "  recall =[]\r\n",
        "  for j in range(len(mat)):\r\n",
        "    precesion.append(mat[j,j] / precision_colsum[j])\r\n",
        "    recall.append(mat[j,j] / precall_rawsum[j])\r\n",
        "  plt.style.use('dark_background')\r\n",
        "  plt.figure(figsize=(3,10))\r\n",
        "  import pandas\r\n",
        "  df = pandas.DataFrame(np.c_[precesion,recall],columns= ['precesion','recall'])\r\n",
        "  plt.xticks(fontsize=14)\r\n",
        "  sns.heatmap(df,  annot=True, annot_kws={\"size\": 14})\r\n",
        "  # plt.xticks(fontsize=14,ticks=range(9,-1,-1),labels=['3','p','3','p','3','p','3','p','3','p'])\r\n",
        "  # plt.yticks(fontsize=14)\r\n",
        "\r\n",
        "  plt.xticks(fontsize=14)\r\n",
        "  plt.show()\r\n",
        "\r\n",
        "\r\n",
        "\r\n",
        "\r\n",
        "precision_recall(best_iteration.confusion_matrix)\r\n",
        "\r\n",
        "\r\n"
      ],
      "execution_count": 63,
      "outputs": [
        {
          "output_type": "display_data",
          "data": {
            "image/png": "[encoded data removed]",
            "text/plain": [
              "<Figure size 216x720 with 2 Axes>"
            ]
          },
          "metadata": {
            "tags": []
          }
        }
      ]
    }
  ]
}